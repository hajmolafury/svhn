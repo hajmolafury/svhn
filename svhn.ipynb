{
  "nbformat": 4,
  "nbformat_minor": 0,
  "metadata": {
    "colab": {
      "name": "svhn_grayscale.ipynb",
      "version": "0.3.2",
      "provenance": [],
      "collapsed_sections": []
    },
    "kernelspec": {
      "name": "python3",
      "display_name": "Python 3"
    },
    "accelerator": "GPU"
  },
  "cells": [
    {
      "metadata": {
        "id": "WI0hbV9dJJT4",
        "colab_type": "text"
      },
      "cell_type": "markdown",
      "source": [
        "####Import necessary libraries\n",
        "👇🏻 cell : Tensorflow, Plotly (for interactive plots), Matplotlib (for showing images from matrix), etc.\n",
        "\n"
      ]
    },
    {
      "metadata": {
        "id": "rmnsLEcBIpdl",
        "colab_type": "code",
        "colab": {
          "base_uri": "https://localhost:8080/",
          "height": 34
        },
        "outputId": "1a00292a-a2c9-4cef-d024-f82cba7db02a"
      },
      "cell_type": "code",
      "source": [
        "import time\n",
        "import tensorflow as tf\n",
        "import numpy as np\n",
        "import scipy as sp\n",
        "import scipy.io as sio\n",
        "from scipy.misc import *\n",
        "import os\n",
        "os.environ['TF_CPP_MIN_LOG_LEVEL']='2'\n",
        "\n",
        "from plotly.offline import download_plotlyjs, init_notebook_mode, plot, iplot\n",
        "import plotly\n",
        "plotly.tools.set_credentials_file(username='ymehta95', api_key='TVHPG5E24omQeUyWougP')\n",
        "import plotly.plotly as py\n",
        "import plotly.graph_objs as go\n",
        "\n",
        "%matplotlib inline\n",
        "import numpy as np\n",
        "from scipy import misc\n",
        "import matplotlib.pyplot as plt"
      ],
      "execution_count": 47,
      "outputs": [
        {
          "output_type": "stream",
          "text": [
            "Using TensorFlow backend.\n"
          ],
          "name": "stderr"
        }
      ]
    },
    {
      "metadata": {
        "id": "SCSCFVzPHy7F",
        "colab_type": "text"
      },
      "cell_type": "markdown",
      "source": [
        "####Google Drive Access\n",
        "👇🏻 cell : gives our Colab notebook access to data present in Google Drive. The SVHN dataset is uploaded on Drive and the Google Server which hosts this notebook takes input from the Drive."
      ]
    },
    {
      "metadata": {
        "id": "8k2bHCzNIq1m",
        "colab_type": "code",
        "outputId": "5f0d5660-3ea8-4322-bcfc-1da38ca620f7",
        "colab": {
          "base_uri": "https://localhost:8080/",
          "height": 124
        }
      },
      "cell_type": "code",
      "source": [
        "from google.colab import drive\n",
        "drive.mount('/content/drive')"
      ],
      "execution_count": 1,
      "outputs": [
        {
          "output_type": "stream",
          "text": [
            "Go to this URL in a browser: https://accounts.google.com/o/oauth2/auth?client_id=947318989803-6bn6qk8qdgf4n4g3pfee6491hc0brc4i.apps.googleusercontent.com&redirect_uri=urn%3Aietf%3Awg%3Aoauth%3A2.0%3Aoob&scope=email%20https%3A%2F%2Fwww.googleapis.com%2Fauth%2Fdocs.test%20https%3A%2F%2Fwww.googleapis.com%2Fauth%2Fdrive%20https%3A%2F%2Fwww.googleapis.com%2Fauth%2Fdrive.photos.readonly%20https%3A%2F%2Fwww.googleapis.com%2Fauth%2Fpeopleapi.readonly&response_type=code\n",
            "\n",
            "Enter your authorization code:\n",
            "··········\n",
            "Mounted at /content/drive\n"
          ],
          "name": "stdout"
        }
      ]
    },
    {
      "metadata": {
        "id": "sYq0m6lBJ1va",
        "colab_type": "text"
      },
      "cell_type": "markdown",
      "source": [
        "####Data load & preprocessing\n",
        "👇🏻 cell : loads the training and testing images from Google Drive. Preprocessing involves changing the data tensor into the shape we want as well as converting all the images to grayscale and flattening them. We also convert the labels (y) to one-hot encoding matrix."
      ]
    },
    {
      "metadata": {
        "id": "FG6ar9nEIpdn",
        "colab_type": "code",
        "colab": {}
      },
      "cell_type": "code",
      "source": [
        "file_path='/content/drive/My Drive/clouderizer/Clouderizer-svhn/data'\n",
        "\n",
        "def __store_data(data, num_of_examples):\n",
        "    d = []\n",
        "\n",
        "    for i in range(num_of_examples):\n",
        "        d.append(data[:, :, :, i])\n",
        "\n",
        "    return np.asarray(d)\n",
        "  \n",
        "def rgb2gray(rgb):\n",
        "  return np.dot(rgb[...,:3], [0.299, 0.587, 0.114])\n",
        "\n",
        "\n",
        "train = sio.loadmat(file_path + \"/train_32x32.mat\")\n",
        "y_train = train['y']\n",
        "train_examples = train['X'].shape[3]\n",
        "x_train = __store_data(train['X'].astype(\"float32\"), train_examples)\n",
        "x_train=x_train/255\n",
        "rgbx_train=x_train\n",
        "x_train=rgb2gray(x_train)\n",
        "grayx_train=x_train\n",
        "x_train=tf.Session().run(tf.reshape(grayx_train, [train_examples,1024]))\n",
        "\n",
        "\n",
        "test = sio.loadmat(file_path+\"/test_32x32.mat\")\n",
        "y_test = test['y']\n",
        "test_examples = test['X'].shape[3]\n",
        "x_test = __store_data(test['X'].astype(\"float32\"), test_examples)\n",
        "x_test=x_test/255\n",
        "rgbx_test=x_test\n",
        "x_test=rgb2gray(x_test)\n",
        "grayx_test=x_test\n",
        "x_test=tf.Session().run(tf.reshape(grayx_test, [test_examples,1024]))\n",
        "\n",
        "coldy_train=y_train\n",
        "coldy_test=y_test\n",
        "# coldy_train=tf.Session().run(tf.reshape(coldy_train, [train_examples]))\n",
        "# coldy_test=tf.Session().run(tf.reshape(coldy_test, [test_examples]))\n",
        "\n",
        "n_classes=11\n",
        "y_train=tf.Session().run(tf.reshape(tf.Session().run(tf.one_hot(coldy_train,depth=11)),[train_examples,n_classes]))\n",
        "y_test=tf.Session().run(tf.reshape(tf.Session().run(tf.one_hot(coldy_test,depth=11)),[test_examples,n_classes]))"
      ],
      "execution_count": 0,
      "outputs": []
    },
    {
      "metadata": {
        "id": "TgTB4LAhK9f0",
        "colab_type": "text"
      },
      "cell_type": "markdown",
      "source": [
        "####Verify Data\n",
        "👇🏻 cell : check if the data has been loaded and if the grayscale conversion is working as planned."
      ]
    },
    {
      "metadata": {
        "id": "iIgDiKk1EuOG",
        "colab_type": "code",
        "outputId": "ac50cdc8-c3fa-4b39-96c6-8b0fe6cf8253",
        "colab": {
          "base_uri": "https://localhost:8080/",
          "height": 623
        }
      },
      "cell_type": "code",
      "source": [
        "img=rgbx_test[0]\n",
        "plt.figure(figsize=(10,20))\n",
        "plt.imshow(img)"
      ],
      "execution_count": 36,
      "outputs": [
        {
          "output_type": "execute_result",
          "data": {
            "text/plain": [
              "<matplotlib.image.AxesImage at 0x7f59834f3a20>"
            ]
          },
          "metadata": {
            "tags": []
          },
          "execution_count": 36
        },
        {
          "output_type": "display_data",
          "data": {
            "image/png": "[encoded data removed]",
            "text/plain": [
              "<matplotlib.figure.Figure at 0x7f598352acf8>"
            ]
          },
          "metadata": {
            "tags": []
          }
        }
      ]
    },
    {
      "metadata": {
        "id": "oD4jugu8DOAI",
        "colab_type": "code",
        "outputId": "dd3358b3-4108-4423-aa3c-58136565d851",
        "colab": {
          "base_uri": "https://localhost:8080/",
          "height": 623
        }
      },
      "cell_type": "code",
      "source": [
        "img=grayx_test[0]\n",
        "plt.figure(figsize=(10,20))\n",
        "plt.imshow(img, cmap='gray')"
      ],
      "execution_count": 37,
      "outputs": [
        {
          "output_type": "execute_result",
          "data": {
            "text/plain": [
              "<matplotlib.image.AxesImage at 0x7f59834589e8>"
            ]
          },
          "metadata": {
            "tags": []
          },
          "execution_count": 37
        },
        {
          "output_type": "display_data",
          "data": {
            "image/png": "[encoded data removed]",
            "text/plain": [
              "<matplotlib.figure.Figure at 0x7f598356d710>"
            ]
          },
          "metadata": {
            "tags": []
          }
        }
      ]
    },
    {
      "metadata": {
        "id": "j0211LP4MHUJ",
        "colab_type": "text"
      },
      "cell_type": "markdown",
      "source": [
        "####Define network architecture\n",
        "👇🏻 cell : we define the number of hidden layers, the nodes in each of the layers, which activation function should be used, weight initialization; basically set all the 'parameters' of the network."
      ]
    },
    {
      "metadata": {
        "id": "xKZf0cbAIpd0",
        "colab_type": "code",
        "colab": {}
      },
      "cell_type": "code",
      "source": [
        "nodes_hl1=1000\n",
        "nodes_hl2=1000\n",
        "n_classes=11\n",
        "\n",
        "x=tf.placeholder('float',[None,1024])\n",
        "y=tf.placeholder('float')\n",
        "\n",
        "\n",
        "def neural_network(data):\n",
        "  \n",
        "    #initializer= tf.contrib.layers.xavier_initializer()\n",
        "    initializer=tf.keras.initializers.he_normal()\n",
        "    \n",
        "    hl1={'weights':tf.Variable(initializer([1024,nodes_hl1])),'bias':tf.Variable(initializer([nodes_hl1]))}\n",
        "    hl2={'weights':tf.Variable(initializer([nodes_hl1,nodes_hl2])),'bias':tf.Variable(initializer([nodes_hl2]))}\n",
        "    output_layer={'weights':tf.Variable(initializer([nodes_hl2,n_classes])),'bias':tf.Variable(initializer([n_classes]))}\n",
        "    \n",
        "    \n",
        "    l1=tf.add(tf.matmul(data,hl1['weights']),hl1['bias'])\n",
        "    l1=tf.nn.relu(l1)\n",
        "                                                                                        \n",
        "    l2=tf.add(tf.matmul(l1,hl2['weights']),hl2['bias'])\n",
        "    l2=tf.nn.relu(l2)\n",
        "                                                                                           \n",
        "    output=tf.nn.sigmoid(tf.add(tf.matmul(l2,output_layer['weights']),output_layer['bias']))\n",
        "                                                                                           \n",
        "    return output"
      ],
      "execution_count": 0,
      "outputs": []
    },
    {
      "metadata": {
        "id": "ltDdrUCvM-WJ",
        "colab_type": "text"
      },
      "cell_type": "markdown",
      "source": [
        "####Training!\n",
        "👇🏻 cell : run the tf session feeding training data in mini-batches. Here we define the loss function of the network along with the optimizer. We continuously keep saving the loss and accuracies as the network gets trained so that we may plot them later."
      ]
    },
    {
      "metadata": {
        "id": "OEOCGrDhIpd4",
        "colab_type": "code",
        "colab": {}
      },
      "cell_type": "code",
      "source": [
        "def train_neural_network(optimizer):\n",
        "    prediction=neural_network(x)\n",
        "    prediction=tf.nn.softmax(prediction)\n",
        "    \n",
        "    loss=tf.reduce_mean(tf.nn.softmax_cross_entropy_with_logits_v2(logits=prediction,labels=y))\n",
        "    \n",
        "    if optimizer=='adam':\n",
        "        optimize=tf.train.AdamOptimizer(learning_rate=0.00015).minimize(loss)\n",
        "    if optimizer=='sgd':\n",
        "        optimize=tf.train.GradientDescentOptimizer(learning_rate=0.0001).minimize(loss)\n",
        "        \n",
        "   \n",
        "    with tf.Session() as sess:\n",
        "        sess.run(tf.global_variables_initializer())\n",
        "        \n",
        "        for epoch in range(num_epoch):\n",
        "            for i in range(0, train_examples, batch_size):\n",
        "                # Get pair of (X, y) of the current minibatch/chunk\n",
        "                batch_x = x_train[i:i + batch_size]\n",
        "                batch_y = y_train[i:i + batch_size]\n",
        "                _, l=sess.run([optimize, loss],feed_dict={x:batch_x,y:batch_y})\n",
        "                epoch_loss[epoch]+=l\n",
        "                \n",
        "                \n",
        "            correct=tf.equal(tf.argmax(prediction,1),tf.argmax(y,1))\n",
        "            accuracy=tf.reduce_mean(tf.cast(correct,'float'))\n",
        "            test_acc.append(accuracy.eval({x:x_test,y:y_test}))\n",
        "              \n",
        "\n",
        "            print ('Epoch', epoch+1,'completed out of',num_epoch,'loss:',epoch_loss[epoch])            \n",
        "            print ('Test Accuracy :', test_acc[-1])\n",
        "            print (time.time() - start_time, 'sec')\n",
        "            if (epoch-9)%10 == 0:\n",
        "                print()\n",
        "                train_acc.append(accuracy.eval({x:x_train,y:y_train}))\n",
        "                print('Training Accuracy :', train_acc[-1])\n",
        "                \n",
        "                "
      ],
      "execution_count": 0,
      "outputs": []
    },
    {
      "metadata": {
        "id": "pV_aDU2nN9oF",
        "colab_type": "text"
      },
      "cell_type": "markdown",
      "source": [
        "####Main Function\n",
        "👇🏻 cell : calls the network training function and sets training parameters like number of epochs and mini-batch size. First we train the network using **Adam Optimizer.**"
      ]
    },
    {
      "metadata": {
        "id": "xRzGtlk-Ipd7",
        "colab_type": "code",
        "outputId": "b2577446-e519-4c72-c4af-e7e905dbc93c",
        "colab": {
          "base_uri": "https://localhost:8080/",
          "height": 8388
        }
      },
      "cell_type": "code",
      "source": [
        "num_epoch=150\n",
        "batch_size=128\n",
        "epoch_loss=np.zeros(num_epoch)\n",
        "test_acc=[]\n",
        "train_acc=[]\n",
        "\n",
        "if __name__==\"__main__\":\n",
        "    start_time=time.time()\n",
        "    train_neural_network('adam')\n",
        "    print (\"\\nThe network has been trained!\")"
      ],
      "execution_count": 54,
      "outputs": [
        {
          "output_type": "stream",
          "text": [
            "Epoch 1 completed out of 150 loss: 1362.495540857315\n",
            "Test Accuracy : 0.1845421\n",
            "5.055731296539307 sec\n",
            "Epoch 2 completed out of 150 loss: 1358.2977547645569\n",
            "Test Accuracy : 0.19003534\n",
            "8.332888126373291 sec\n",
            "Epoch 3 completed out of 150 loss: 1352.25759267807\n",
            "Test Accuracy : 0.35368007\n",
            "11.614207983016968 sec\n",
            "Epoch 4 completed out of 150 loss: 1346.675428390503\n",
            "Test Accuracy : 0.46569607\n",
            "14.800107955932617 sec\n",
            "Epoch 5 completed out of 150 loss: 1342.592681646347\n",
            "Test Accuracy : 0.48421174\n",
            "17.914831399917603 sec\n",
            "Epoch 6 completed out of 150 loss: 1341.5156836509705\n",
            "Test Accuracy : 0.48878303\n",
            "21.058425664901733 sec\n",
            "Epoch 7 completed out of 150 loss: 1340.8978011608124\n",
            "Test Accuracy : 0.49719575\n",
            "24.202946662902832 sec\n",
            "Epoch 8 completed out of 150 loss: 1340.3530950546265\n",
            "Test Accuracy : 0.5005762\n",
            "27.33502721786499 sec\n",
            "Epoch 9 completed out of 150 loss: 1340.019995212555\n",
            "Test Accuracy : 0.49692687\n",
            "30.392011404037476 sec\n",
            "Epoch 10 completed out of 150 loss: 1339.5593705177307\n",
            "Test Accuracy : 0.50557005\n",
            "33.5126097202301 sec\n",
            "\n",
            "Training Accuracy : 0.5305841\n",
            "Epoch 11 completed out of 150 loss: 1339.263905763626\n",
            "Test Accuracy : 0.504264\n",
            "36.94392681121826 sec\n",
            "Epoch 12 completed out of 150 loss: 1338.9733347892761\n",
            "Test Accuracy : 0.5140212\n",
            "40.03987789154053 sec\n",
            "Epoch 13 completed out of 150 loss: 1338.1457476615906\n",
            "Test Accuracy : 0.53948987\n",
            "43.25053334236145 sec\n",
            "Epoch 14 completed out of 150 loss: 1336.8949828147888\n",
            "Test Accuracy : 0.5460971\n",
            "46.45887565612793 sec\n",
            "Epoch 15 completed out of 150 loss: 1336.5546135902405\n",
            "Test Accuracy : 0.5421404\n",
            "49.550588846206665 sec\n",
            "Epoch 16 completed out of 150 loss: 1336.2610054016113\n",
            "Test Accuracy : 0.5557775\n",
            "52.67577934265137 sec\n",
            "Epoch 17 completed out of 150 loss: 1335.142829656601\n",
            "Test Accuracy : 0.5599263\n",
            "55.758307218551636 sec\n",
            "Epoch 18 completed out of 150 loss: 1334.706668138504\n",
            "Test Accuracy : 0.56234634\n",
            "58.77354049682617 sec\n",
            "Epoch 19 completed out of 150 loss: 1334.4728429317474\n",
            "Test Accuracy : 0.5643823\n",
            "61.82021951675415 sec\n",
            "Epoch 20 completed out of 150 loss: 1334.300788640976\n",
            "Test Accuracy : 0.56503534\n",
            "64.8528664112091 sec\n",
            "\n",
            "Training Accuracy : 0.59580654\n",
            "Epoch 21 completed out of 150 loss: 1334.07177901268\n",
            "Test Accuracy : 0.5681469\n",
            "68.21160817146301 sec\n",
            "Epoch 22 completed out of 150 loss: 1333.8358163833618\n",
            "Test Accuracy : 0.5695682\n",
            "71.28099298477173 sec\n",
            "Epoch 23 completed out of 150 loss: 1333.7320489883423\n",
            "Test Accuracy : 0.5726029\n",
            "74.34056997299194 sec\n",
            "Epoch 24 completed out of 150 loss: 1332.498873949051\n",
            "Test Accuracy : 0.59872466\n",
            "77.39468288421631 sec\n",
            "Epoch 25 completed out of 150 loss: 1331.0785796642303\n",
            "Test Accuracy : 0.6059081\n",
            "80.51920127868652 sec\n",
            "Epoch 26 completed out of 150 loss: 1330.757858991623\n",
            "Test Accuracy : 0.61059463\n",
            "83.58946585655212 sec\n",
            "Epoch 27 completed out of 150 loss: 1330.5307092666626\n",
            "Test Accuracy : 0.6125154\n",
            "86.751784324646 sec\n",
            "Epoch 28 completed out of 150 loss: 1330.285696029663\n",
            "Test Accuracy : 0.6147818\n",
            "89.83435678482056 sec\n",
            "Epoch 29 completed out of 150 loss: 1328.9912157058716\n",
            "Test Accuracy : 0.64474493\n",
            "92.92061734199524 sec\n",
            "Epoch 30 completed out of 150 loss: 1328.1106848716736\n",
            "Test Accuracy : 0.64324677\n",
            "95.95030426979065 sec\n",
            "\n",
            "Training Accuracy : 0.6732599\n",
            "Epoch 31 completed out of 150 loss: 1327.8021426200867\n",
            "Test Accuracy : 0.6490089\n",
            "99.31265759468079 sec\n",
            "Epoch 32 completed out of 150 loss: 1327.646858215332\n",
            "Test Accuracy : 0.6490473\n",
            "102.40941834449768 sec\n",
            "Epoch 33 completed out of 150 loss: 1327.398188829422\n",
            "Test Accuracy : 0.6540412\n",
            "105.47541189193726 sec\n",
            "Epoch 34 completed out of 150 loss: 1327.2364809513092\n",
            "Test Accuracy : 0.6566918\n",
            "108.51411581039429 sec\n",
            "Epoch 35 completed out of 150 loss: 1327.0197451114655\n",
            "Test Accuracy : 0.658382\n",
            "111.56725239753723 sec\n",
            "Epoch 36 completed out of 150 loss: 1326.9315311908722\n",
            "Test Accuracy : 0.66149354\n",
            "114.64419984817505 sec\n",
            "Epoch 37 completed out of 150 loss: 1326.7548835277557\n",
            "Test Accuracy : 0.6600722\n",
            "117.68914127349854 sec\n",
            "Epoch 38 completed out of 150 loss: 1326.5784380435944\n",
            "Test Accuracy : 0.6598417\n",
            "120.73146533966064 sec\n",
            "Epoch 39 completed out of 150 loss: 1326.4687840938568\n",
            "Test Accuracy : 0.6656039\n",
            "123.78785824775696 sec\n",
            "Epoch 40 completed out of 150 loss: 1326.3024468421936\n",
            "Test Accuracy : 0.66360635\n",
            "126.8049943447113 sec\n",
            "\n",
            "Training Accuracy : 0.700015\n",
            "Epoch 41 completed out of 150 loss: 1326.234516620636\n",
            "Test Accuracy : 0.6681008\n",
            "130.18132615089417 sec\n",
            "Epoch 42 completed out of 150 loss: 1326.0516011714935\n",
            "Test Accuracy : 0.67071295\n",
            "133.21871829032898 sec\n",
            "Epoch 43 completed out of 150 loss: 1322.9491500854492\n",
            "Test Accuracy : 0.73632455\n",
            "136.3093719482422 sec\n",
            "Epoch 44 completed out of 150 loss: 1320.990391254425\n",
            "Test Accuracy : 0.73474956\n",
            "139.36712074279785 sec\n",
            "Epoch 45 completed out of 150 loss: 1320.686110496521\n",
            "Test Accuracy : 0.740358\n",
            "142.4391689300537 sec\n",
            "Epoch 46 completed out of 150 loss: 1320.3451516628265\n",
            "Test Accuracy : 0.7467348\n",
            "145.4756383895874 sec\n",
            "Epoch 47 completed out of 150 loss: 1320.0273206233978\n",
            "Test Accuracy : 0.7689766\n",
            "148.51680827140808 sec\n",
            "Epoch 48 completed out of 150 loss: 1318.8401329517365\n",
            "Test Accuracy : 0.7712431\n",
            "151.6151556968689 sec\n",
            "Epoch 49 completed out of 150 loss: 1318.4772281646729\n",
            "Test Accuracy : 0.7750845\n",
            "154.6686315536499 sec\n",
            "Epoch 50 completed out of 150 loss: 1318.33500289917\n",
            "Test Accuracy : 0.77139676\n",
            "157.7210454940796 sec\n",
            "\n",
            "Training Accuracy : 0.8151849\n",
            "Epoch 51 completed out of 150 loss: 1318.1021180152893\n",
            "Test Accuracy : 0.77412415\n",
            "161.07817125320435 sec\n",
            "Epoch 52 completed out of 150 loss: 1317.9751505851746\n",
            "Test Accuracy : 0.77546865\n",
            "164.18470072746277 sec\n",
            "Epoch 53 completed out of 150 loss: 1317.7932646274567\n",
            "Test Accuracy : 0.7738168\n",
            "167.22481322288513 sec\n",
            "Epoch 54 completed out of 150 loss: 1317.6604280471802\n",
            "Test Accuracy : 0.77566075\n",
            "170.31320810317993 sec\n",
            "Epoch 55 completed out of 150 loss: 1317.4838047027588\n",
            "Test Accuracy : 0.7758528\n",
            "173.36867761611938 sec\n",
            "Epoch 56 completed out of 150 loss: 1317.4613885879517\n",
            "Test Accuracy : 0.77108943\n",
            "176.48778104782104 sec\n",
            "Epoch 57 completed out of 150 loss: 1317.2886486053467\n",
            "Test Accuracy : 0.77116627\n",
            "179.6196746826172 sec\n",
            "Epoch 58 completed out of 150 loss: 1317.1260061264038\n",
            "Test Accuracy : 0.7745467\n",
            "182.69226694107056 sec\n",
            "Epoch 59 completed out of 150 loss: 1317.1035432815552\n",
            "Test Accuracy : 0.7756223\n",
            "185.73249554634094 sec\n",
            "Epoch 60 completed out of 150 loss: 1317.0256583690643\n",
            "Test Accuracy : 0.7763906\n",
            "188.799320936203 sec\n",
            "\n",
            "Training Accuracy : 0.82839864\n",
            "Epoch 61 completed out of 150 loss: 1316.8791816234589\n",
            "Test Accuracy : 0.77811927\n",
            "192.2471137046814 sec\n",
            "Epoch 62 completed out of 150 loss: 1316.7361981868744\n",
            "Test Accuracy : 0.7809619\n",
            "195.3762595653534 sec\n",
            "Epoch 63 completed out of 150 loss: 1316.7555527687073\n",
            "Test Accuracy : 0.77811927\n",
            "198.4436068534851 sec\n",
            "Epoch 64 completed out of 150 loss: 1316.649762392044\n",
            "Test Accuracy : 0.77677476\n",
            "201.5005865097046 sec\n",
            "Epoch 65 completed out of 150 loss: 1316.5940079689026\n",
            "Test Accuracy : 0.7828442\n",
            "204.56007528305054 sec\n",
            "Epoch 66 completed out of 150 loss: 1316.4080350399017\n",
            "Test Accuracy : 0.78222954\n",
            "207.61134552955627 sec\n",
            "Epoch 67 completed out of 150 loss: 1316.4068596363068\n",
            "Test Accuracy : 0.77850336\n",
            "210.66760277748108 sec\n",
            "Epoch 68 completed out of 150 loss: 1316.3312377929688\n",
            "Test Accuracy : 0.7809619\n",
            "213.72419261932373 sec\n",
            "Epoch 69 completed out of 150 loss: 1316.1675202846527\n",
            "Test Accuracy : 0.7884527\n",
            "216.80338716506958 sec\n",
            "Epoch 70 completed out of 150 loss: 1316.1420242786407\n",
            "Test Accuracy : 0.7783113\n",
            "219.8777096271515 sec\n",
            "\n",
            "Training Accuracy : 0.8267606\n",
            "Epoch 71 completed out of 150 loss: 1316.0923836231232\n",
            "Test Accuracy : 0.78330517\n",
            "223.37262058258057 sec\n",
            "Epoch 72 completed out of 150 loss: 1315.979155778885\n",
            "Test Accuracy : 0.7904886\n",
            "226.44612073898315 sec\n",
            "Epoch 73 completed out of 150 loss: 1315.932378768921\n",
            "Test Accuracy : 0.79087275\n",
            "229.49941992759705 sec\n",
            "Epoch 74 completed out of 150 loss: 1315.7756078243256\n",
            "Test Accuracy : 0.78760755\n",
            "232.5491099357605 sec\n",
            "Epoch 75 completed out of 150 loss: 1315.7699630260468\n",
            "Test Accuracy : 0.7892594\n",
            "235.63130903244019 sec\n",
            "Epoch 76 completed out of 150 loss: 1315.729623556137\n",
            "Test Accuracy : 0.7836509\n",
            "238.67827534675598 sec\n",
            "Epoch 77 completed out of 150 loss: 1315.6612145900726\n",
            "Test Accuracy : 0.784957\n",
            "241.72763752937317 sec\n",
            "Epoch 78 completed out of 150 loss: 1315.610965013504\n",
            "Test Accuracy : 0.7858789\n",
            "244.81014347076416 sec\n",
            "Epoch 79 completed out of 150 loss: 1315.5528440475464\n",
            "Test Accuracy : 0.7847265\n",
            "247.884521484375 sec\n",
            "Epoch 80 completed out of 150 loss: 1315.4754552841187\n",
            "Test Accuracy : 0.7893746\n",
            "250.96192717552185 sec\n",
            "\n",
            "Training Accuracy : 0.8457622\n",
            "Epoch 81 completed out of 150 loss: 1315.3241975307465\n",
            "Test Accuracy : 0.7887984\n",
            "254.35262274742126 sec\n",
            "Epoch 82 completed out of 150 loss: 1315.2454674243927\n",
            "Test Accuracy : 0.7881069\n",
            "257.49055910110474 sec\n",
            "Epoch 83 completed out of 150 loss: 1315.2388088703156\n",
            "Test Accuracy : 0.7917947\n",
            "260.61558055877686 sec\n",
            "Epoch 84 completed out of 150 loss: 1315.1807036399841\n",
            "Test Accuracy : 0.79164106\n",
            "263.68778681755066 sec\n",
            "Epoch 85 completed out of 150 loss: 1315.1184079647064\n",
            "Test Accuracy : 0.7921404\n",
            "266.8738121986389 sec\n",
            "Epoch 86 completed out of 150 loss: 1315.1022851467133\n",
            "Test Accuracy : 0.7886832\n",
            "270.01924538612366 sec\n",
            "Epoch 87 completed out of 150 loss: 1315.026684999466\n",
            "Test Accuracy : 0.79333127\n",
            "273.1705331802368 sec\n",
            "Epoch 88 completed out of 150 loss: 1314.9841196537018\n",
            "Test Accuracy : 0.7931392\n",
            "276.31878566741943 sec\n",
            "Epoch 89 completed out of 150 loss: 1314.8713612556458\n",
            "Test Accuracy : 0.78918254\n",
            "279.3821265697479 sec\n",
            "Epoch 90 completed out of 150 loss: 1314.917947769165\n",
            "Test Accuracy : 0.7941764\n",
            "282.47461128234863 sec\n",
            "\n",
            "Training Accuracy : 0.8516456\n",
            "Epoch 91 completed out of 150 loss: 1314.8817434310913\n",
            "Test Accuracy : 0.79459894\n",
            "285.90283393859863 sec\n",
            "Epoch 92 completed out of 150 loss: 1314.1857752799988\n",
            "Test Accuracy : 0.81380606\n",
            "289.0202889442444 sec\n",
            "Epoch 93 completed out of 150 loss: 1313.521960735321\n",
            "Test Accuracy : 0.8128073\n",
            "292.10306549072266 sec\n",
            "Epoch 94 completed out of 150 loss: 1313.303368806839\n",
            "Test Accuracy : 0.81695604\n",
            "295.2400133609772 sec\n",
            "Epoch 95 completed out of 150 loss: 1313.198962688446\n",
            "Test Accuracy : 0.8169945\n",
            "298.3664855957031 sec\n",
            "Epoch 96 completed out of 150 loss: 1313.070318222046\n",
            "Test Accuracy : 0.81772435\n",
            "301.4365863800049 sec\n",
            "Epoch 97 completed out of 150 loss: 1312.9613389968872\n",
            "Test Accuracy : 0.8179164\n",
            "304.59438276290894 sec\n",
            "Epoch 98 completed out of 150 loss: 1312.8939740657806\n",
            "Test Accuracy : 0.818992\n",
            "307.75006651878357 sec\n",
            "Epoch 99 completed out of 150 loss: 1312.7342648506165\n",
            "Test Accuracy : 0.8245621\n",
            "310.8720953464508 sec\n",
            "Epoch 100 completed out of 150 loss: 1312.6423375606537\n",
            "Test Accuracy : 0.8199139\n",
            "314.1428825855255 sec\n",
            "\n",
            "Training Accuracy : 0.8790559\n",
            "Epoch 101 completed out of 150 loss: 1312.6252818107605\n",
            "Test Accuracy : 0.8208359\n",
            "317.6180121898651 sec\n",
            "Epoch 102 completed out of 150 loss: 1312.5344634056091\n",
            "Test Accuracy : 0.82095116\n",
            "320.79927492141724 sec\n",
            "Epoch 103 completed out of 150 loss: 1312.4923627376556\n",
            "Test Accuracy : 0.81803167\n",
            "323.98854088783264 sec\n",
            "Epoch 104 completed out of 150 loss: 1312.3655798435211\n",
            "Test Accuracy : 0.8199139\n",
            "327.14466309547424 sec\n",
            "Epoch 105 completed out of 150 loss: 1312.2737021446228\n",
            "Test Accuracy : 0.8210664\n",
            "330.30253648757935 sec\n",
            "Epoch 106 completed out of 150 loss: 1312.1937160491943\n",
            "Test Accuracy : 0.8243316\n",
            "333.45439410209656 sec\n",
            "Epoch 107 completed out of 150 loss: 1312.1817066669464\n",
            "Test Accuracy : 0.820106\n",
            "336.59784388542175 sec\n",
            "Epoch 108 completed out of 150 loss: 1312.1451580524445\n",
            "Test Accuracy : 0.82145053\n",
            "339.8042275905609 sec\n",
            "Epoch 109 completed out of 150 loss: 1312.0730288028717\n",
            "Test Accuracy : 0.8179164\n",
            "342.95943880081177 sec\n",
            "Epoch 110 completed out of 150 loss: 1312.0233535766602\n",
            "Test Accuracy : 0.8116933\n",
            "346.1250786781311 sec\n",
            "\n",
            "Training Accuracy : 0.87531567\n",
            "Epoch 111 completed out of 150 loss: 1311.9559118747711\n",
            "Test Accuracy : 0.8192609\n",
            "349.58303236961365 sec\n",
            "Epoch 112 completed out of 150 loss: 1311.9014775753021\n",
            "Test Accuracy : 0.819453\n",
            "352.8411099910736 sec\n",
            "Epoch 113 completed out of 150 loss: 1311.846616268158\n",
            "Test Accuracy : 0.82110476\n",
            "356.1721751689911 sec\n",
            "Epoch 114 completed out of 150 loss: 1311.9435896873474\n",
            "Test Accuracy : 0.81753224\n",
            "359.38451313972473 sec\n",
            "Epoch 115 completed out of 150 loss: 1311.8332288265228\n",
            "Test Accuracy : 0.8178012\n",
            "362.66646695137024 sec\n",
            "Epoch 116 completed out of 150 loss: 1311.7995948791504\n",
            "Test Accuracy : 0.8170713\n",
            "365.975670337677 sec\n",
            "Epoch 117 completed out of 150 loss: 1311.632751941681\n",
            "Test Accuracy : 0.81772435\n",
            "369.175984621048 sec\n",
            "Epoch 118 completed out of 150 loss: 1311.5241968631744\n",
            "Test Accuracy : 0.81864625\n",
            "372.4148623943329 sec\n",
            "Epoch 119 completed out of 150 loss: 1311.5903713703156\n",
            "Test Accuracy : 0.8241779\n",
            "375.6100194454193 sec\n",
            "Epoch 120 completed out of 150 loss: 1311.5109405517578\n",
            "Test Accuracy : 0.8206054\n",
            "378.80948281288147 sec\n",
            "\n",
            "Training Accuracy : 0.8830965\n",
            "Epoch 121 completed out of 150 loss: 1311.496648311615\n",
            "Test Accuracy : 0.8213737\n",
            "382.41036462783813 sec\n",
            "Epoch 122 completed out of 150 loss: 1311.4773609638214\n",
            "Test Accuracy : 0.82367855\n",
            "385.70448207855225 sec\n",
            "Epoch 123 completed out of 150 loss: 1311.4659278392792\n",
            "Test Accuracy : 0.8156884\n",
            "388.98524165153503 sec\n",
            "Epoch 124 completed out of 150 loss: 1311.4964258670807\n",
            "Test Accuracy : 0.82221884\n",
            "392.2252187728882 sec\n",
            "Epoch 125 completed out of 150 loss: 1311.4132025241852\n",
            "Test Accuracy : 0.81618774\n",
            "395.4505820274353 sec\n",
            "Epoch 126 completed out of 150 loss: 1311.3288550376892\n",
            "Test Accuracy : 0.81883836\n",
            "398.6042342185974 sec\n",
            "Epoch 127 completed out of 150 loss: 1311.3060140609741\n",
            "Test Accuracy : 0.8196835\n",
            "401.75421476364136 sec\n",
            "Epoch 128 completed out of 150 loss: 1311.3162608146667\n",
            "Test Accuracy : 0.82548404\n",
            "404.89871287345886 sec\n",
            "Epoch 129 completed out of 150 loss: 1311.2709736824036\n",
            "Test Accuracy : 0.82244927\n",
            "408.15336632728577 sec\n",
            "Epoch 130 completed out of 150 loss: 1311.2631857395172\n",
            "Test Accuracy : 0.8235633\n",
            "411.41623282432556 sec\n",
            "\n",
            "Training Accuracy : 0.89266557\n",
            "Epoch 131 completed out of 150 loss: 1311.180475950241\n",
            "Test Accuracy : 0.8259834\n",
            "414.8651022911072 sec\n",
            "Epoch 132 completed out of 150 loss: 1311.0916438102722\n",
            "Test Accuracy : 0.8268669\n",
            "418.05379366874695 sec\n",
            "Epoch 133 completed out of 150 loss: 1311.1401643753052\n",
            "Test Accuracy : 0.82314074\n",
            "421.34783911705017 sec\n",
            "Epoch 134 completed out of 150 loss: 1311.0637123584747\n",
            "Test Accuracy : 0.8238706\n",
            "424.5471167564392 sec\n",
            "Epoch 135 completed out of 150 loss: 1311.0866196155548\n",
            "Test Accuracy : 0.8251767\n",
            "427.7549469470978 sec\n",
            "Epoch 136 completed out of 150 loss: 1311.0656232833862\n",
            "Test Accuracy : 0.82548404\n",
            "430.9034106731415 sec\n",
            "Epoch 137 completed out of 150 loss: 1310.96923661232\n",
            "Test Accuracy : 0.8243316\n",
            "434.1011760234833 sec\n",
            "Epoch 138 completed out of 150 loss: 1310.956237077713\n",
            "Test Accuracy : 0.8315151\n",
            "437.2814881801605 sec\n",
            "Epoch 139 completed out of 150 loss: 1310.9494500160217\n",
            "Test Accuracy : 0.8227182\n",
            "440.4796953201294 sec\n",
            "Epoch 140 completed out of 150 loss: 1310.9339392185211\n",
            "Test Accuracy : 0.82705903\n",
            "443.6648564338684 sec\n",
            "\n",
            "Training Accuracy : 0.896242\n",
            "Epoch 141 completed out of 150 loss: 1310.8776895999908\n",
            "Test Accuracy : 0.8324754\n",
            "447.1655683517456 sec\n",
            "Epoch 142 completed out of 150 loss: 1310.9157433509827\n",
            "Test Accuracy : 0.83224493\n",
            "450.38766860961914 sec\n",
            "Epoch 143 completed out of 150 loss: 1310.7951772212982\n",
            "Test Accuracy : 0.8253304\n",
            "453.5952479839325 sec\n",
            "Epoch 144 completed out of 150 loss: 1310.810097694397\n",
            "Test Accuracy : 0.8292486\n",
            "456.79338240623474 sec\n",
            "Epoch 145 completed out of 150 loss: 1310.7004487514496\n",
            "Test Accuracy : 0.8277889\n",
            "460.0410306453705 sec\n",
            "Epoch 146 completed out of 150 loss: 1310.6870560646057\n",
            "Test Accuracy : 0.8286724\n",
            "463.30016112327576 sec\n",
            "Epoch 147 completed out of 150 loss: 1310.6784477233887\n",
            "Test Accuracy : 0.8291718\n",
            "466.5744481086731 sec\n",
            "Epoch 148 completed out of 150 loss: 1310.6838929653168\n",
            "Test Accuracy : 0.8307852\n",
            "469.7995796203613 sec\n",
            "Epoch 149 completed out of 150 loss: 1310.6192915439606\n",
            "Test Accuracy : 0.83301324\n",
            "473.0336184501648 sec\n",
            "Epoch 150 completed out of 150 loss: 1310.5219268798828\n",
            "Test Accuracy : 0.8311693\n",
            "476.28305983543396 sec\n",
            "\n",
            "Training Accuracy : 0.90395457\n",
            "\n",
            "The network has been trained!\n"
          ],
          "name": "stdout"
        }
      ]
    },
    {
      "metadata": {
        "id": "F3RUGQrHOb2T",
        "colab_type": "text"
      },
      "cell_type": "markdown",
      "source": [
        "####Create Plots\n",
        "👇🏻 cell : creates plots for loss, training and testing accuracies wrt epoch number using Plotly."
      ]
    },
    {
      "metadata": {
        "id": "a0wCHf6UIpeQ",
        "colab_type": "code",
        "colab": {
          "base_uri": "https://localhost:8080/",
          "height": 547
        },
        "outputId": "877bcf31-248a-4167-a2d4-73e813ca7ffb"
      },
      "cell_type": "code",
      "source": [
        "x_axis0=np.arange(num_epoch)\n",
        "x_axis1=np.arange(10,num_epoch,10)\n",
        "\n",
        "trace0=go.Scatter(x=x_axis0,y=epoch_loss,mode='lines',name='loss')\n",
        "trace1=go.Scatter(x=x_axis0,y=test_acc,mode='lines',name='test_acc')\n",
        "trace2=go.Scatter(x=x_axis1,y=train_acc,mode='lines+markers',name='train_acc')\n",
        "\n",
        "data=([trace0])\n",
        "py.iplot(data,filename='svhn_adam_loss')"
      ],
      "execution_count": 55,
      "outputs": [
        {
          "output_type": "execute_result",
          "data": {
            "text/html": [
              "<iframe id=\"igraph\" scrolling=\"no\" style=\"border:none;\" seamless=\"seamless\" src=\"https://plot.ly/~ymehta95/16.embed\" height=\"525px\" width=\"100%\"></iframe>"
            ],
            "text/plain": [
              "<plotly.tools.PlotlyDisplay object>"
            ]
          },
          "metadata": {
            "tags": []
          },
          "execution_count": 55
        }
      ]
    },
    {
      "metadata": {
        "id": "wQK8k_LEIpeT",
        "colab_type": "code",
        "colab": {
          "base_uri": "https://localhost:8080/",
          "height": 547
        },
        "outputId": "c8a069db-556d-4e75-aa38-e4ee9e714fc7"
      },
      "cell_type": "code",
      "source": [
        "data=([trace1,trace2])\n",
        "py.iplot(data,filename='svhn_adam_acc')"
      ],
      "execution_count": 56,
      "outputs": [
        {
          "output_type": "execute_result",
          "data": {
            "text/html": [
              "<iframe id=\"igraph\" scrolling=\"no\" style=\"border:none;\" seamless=\"seamless\" src=\"https://plot.ly/~ymehta95/18.embed\" height=\"525px\" width=\"100%\"></iframe>"
            ],
            "text/plain": [
              "<plotly.tools.PlotlyDisplay object>"
            ]
          },
          "metadata": {
            "tags": []
          },
          "execution_count": 56
        }
      ]
    },
    {
      "metadata": {
        "id": "VYiFroIBIpeW",
        "colab_type": "code",
        "colab": {}
      },
      "cell_type": "code",
      "source": [
        "num_epoch=150\n",
        "epoch_loss=np.zeros(num_epoch)\n",
        "test_acc=[]\n",
        "train_acc=[]\n",
        "\n",
        "if __name__==\"__main__\":\n",
        "    start_time=time.time()\n",
        "    train_neural_network('sgd')\n",
        "    print (\"\\nThe network has been trained!\")"
      ],
      "execution_count": 0,
      "outputs": []
    },
    {
      "metadata": {
        "id": "JD-Rtk4zIpeZ",
        "colab_type": "code",
        "colab": {}
      },
      "cell_type": "code",
      "source": [
        "trace0=go.Scatter(x=x_axis1,y=epoch_loss)\n",
        "trace1=go.Scatter(x=x_axis2,y=test_acc)\n",
        "trace2=go.Scatter(x=x_axis3,y=train_acc)\n",
        "data=([trace0])\n",
        "py.iplot(data,filename='svhn_sgd_loss')"
      ],
      "execution_count": 0,
      "outputs": []
    },
    {
      "metadata": {
        "id": "NNg_jZzEIpec",
        "colab_type": "code",
        "colab": {}
      },
      "cell_type": "code",
      "source": [
        "data=([trace1,trace2])\n",
        "py.iplot(data,filename='svhn_sgd_acc')"
      ],
      "execution_count": 0,
      "outputs": []
    }
  ]
}
