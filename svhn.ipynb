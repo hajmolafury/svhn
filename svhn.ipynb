{
 "cells": [
  {
   "cell_type": "code",
   "execution_count": 73,
   "metadata": {},
   "outputs": [],
   "source": [
    "import os\n",
    "os.environ['TF_CPP_MIN_LOG_LEVEL']='2'"
   ]
  },
  {
   "cell_type": "code",
   "execution_count": 74,
   "metadata": {},
   "outputs": [],
   "source": [
    "import time\n",
    "import tensorflow as tf\n",
    "import numpy as np\n",
    "import scipy as sp\n",
    "import scipy.io as sio\n",
    "from scipy.misc import *\n",
    "\n",
    "from plotly.offline import download_plotlyjs, init_notebook_mode, plot, iplot\n",
    "import plotly\n",
    "plotly.tools.set_credentials_file(username='ymehta95', api_key='TVHPG5E24omQeUyWougP')\n",
    "import plotly.plotly as py\n",
    "import plotly.graph_objs as go\n",
    "\n",
    "#To install plotpy library:\n",
    "#pip install plotly --upgrade"
   ]
  },
  {
   "cell_type": "raw",
   "metadata": {},
   "source": [
    "#Dataset location\n",
    "train_location = '/Users/mehtay/Desktop/The Great Gatsby/practical/datasets/SVHN/train_32x32.mat'\n",
    "test_location = '/Users/mehtay/Desktop/The Great Gatsby/practical/datasets/SVHN/test_32x32.mat'\n",
    "\n",
    "\n",
    "def load_train_data():\n",
    "    train_dict = sio.loadmat(train_location)\n",
    "    X = np.asarray(train_dict['X'])\n",
    "\n",
    "    x_train = []\n",
    "    for i in range(X.shape[3]):\n",
    "        x_train.append(X[:,:,:,i])\n",
    "    x_train = np.asarray(x_train)\n",
    "    y_train = train_dict['y']\n",
    "    return (x_train,y_train)\n",
    "\n",
    "def load_test_data():\n",
    "    test_dict = sio.loadmat(test_location)\n",
    "    X = np.asarray(test_dict['X'])\n",
    "\n",
    "    x_test = []\n",
    "    for i in range(X.shape[3]):\n",
    "        x_test.append(X[:,:,:,i])\n",
    "    x_test = np.asarray(x_test)\n",
    "\n",
    "    y_test = test_dict['y']\n",
    "    return (x_test,y_test)"
   ]
  },
  {
   "cell_type": "code",
   "execution_count": 75,
   "metadata": {},
   "outputs": [],
   "source": [
    "file_path='/Users/mehtay/Desktop/The Great Gatsby/practical/datasets/SVHN'\n",
    "\n",
    "def __store_data(data, num_of_examples):\n",
    "    d = []\n",
    "\n",
    "    for i in range(num_of_examples):\n",
    "        d.append(data[:, :, :, i])\n",
    "\n",
    "    return np.asarray(d)\n",
    "\n",
    "\n",
    "train = sio.loadmat(file_path + \"/train_32x32.mat\")\n",
    "y_train = train['y']\n",
    "train_examples = train['X'].shape[3]\n",
    "x_train = __store_data(train['X'].astype(\"float32\"), train_examples)\n",
    "x_train=tf.Session().run(tf.reshape(x_train, [len(x_train),3072]))\n",
    "x_train=x_train/255\n",
    "\n",
    "test = sio.loadmat(file_path+\"/test_32x32.mat\")\n",
    "y_test = test['y']\n",
    "test_examples = test['X'].shape[3]\n",
    "x_test = __store_data(test['X'].astype(\"float32\"), test_examples)\n",
    "x_test=tf.Session().run(tf.reshape(x_test, [len(x_test),3072]))\n",
    "x_test=x_test/255"
   ]
  },
  {
   "cell_type": "code",
   "execution_count": 76,
   "metadata": {},
   "outputs": [],
   "source": [
    "y_train=tf.Session().run(tf.one_hot(y_train,depth=10))\n",
    "y_test=tf.Session().run(tf.one_hot(y_test,depth=10))\n",
    "\n",
    "y_train=tf.Session().run(tf.reshape(y_train, [len(y_train),10]))\n",
    "y_test=tf.Session().run(tf.reshape(y_test, [len(y_test),10]))"
   ]
  },
  {
   "cell_type": "code",
   "execution_count": 77,
   "metadata": {},
   "outputs": [],
   "source": [
    "x=tf.placeholder('float',[None,3072])\n",
    "y=tf.placeholder('float')"
   ]
  },
  {
   "cell_type": "code",
   "execution_count": 78,
   "metadata": {},
   "outputs": [],
   "source": [
    "nodes_hl1=1000\n",
    "nodes_hl2=1000\n",
    "n_classes=10"
   ]
  },
  {
   "cell_type": "code",
   "execution_count": 79,
   "metadata": {},
   "outputs": [],
   "source": [
    "def neural_network(data):\n",
    "    hl1={'weights':tf.Variable(tf.random_normal([3072,nodes_hl1])),'bias':tf.Variable(tf.random_normal([nodes_hl1]))}\n",
    "    hl2={'weights':tf.Variable(tf.random_normal([nodes_hl1,nodes_hl2])),'bias':tf.Variable(tf.random_normal([nodes_hl2]))}\n",
    "    output_layer={'weights':tf.Variable(tf.random_normal([nodes_hl2,n_classes])),'bias':tf.Variable(tf.random_normal([n_classes]))}\n",
    "    #(input_data*weights +bias)\n",
    "    #using activation function as ReLU\n",
    "    l1=tf.add(tf.matmul(data,hl1['weights']),hl1['bias'])\n",
    "    l1=tf.nn.relu(l1)\n",
    "                                                                                        \n",
    "    l2=tf.add(tf.matmul(l1,hl2['weights']),hl2['bias'])\n",
    "    l2=tf.nn.relu(l2)\n",
    "                                                                                           \n",
    "    output=tf.add(tf.matmul(l2,output_layer['weights']),output_layer['bias'])\n",
    "                                                                                           \n",
    "    return output"
   ]
  },
  {
   "cell_type": "code",
   "execution_count": 80,
   "metadata": {},
   "outputs": [],
   "source": [
    "def train_neural_network(x,optimizer):\n",
    "    prediction=neural_network(x)\n",
    "    cost=tf.reduce_mean(tf.nn.softmax_cross_entropy_with_logits(logits=prediction,labels=y))\n",
    "    if optimizer=='adam':\n",
    "        optimize=tf.train.AdamOptimizer(learning_rate=0.0005).minimize(cost)\n",
    "    if optimizer=='sgd':\n",
    "        optimize=tf.train.GradientDescentOptimizer(learning_rate=0.001).minimize(cost)\n",
    "        \n",
    "   \n",
    "    with tf.Session() as sess:\n",
    "        sess.run(tf.global_variables_initializer())\n",
    "        \n",
    "        \n",
    "        for epoch in range(num_epoch):\n",
    "            for i in range(0, len(x_train), batch_size):\n",
    "                # Get pair of (X, y) of the current minibatch/chunk\n",
    "                batch_x = x_train[i:i + batch_size]\n",
    "                batch_y = y_train[i:i + batch_size]\n",
    "                _, c=sess.run([optimize, cost],feed_dict={x:batch_x,y:batch_y})\n",
    "                epoch_loss[epoch]+=c\n",
    "                if i%int((int(len(x_train)/batch_size)/f))==0:\n",
    "                    correct=tf.equal(tf.argmax(prediction,1),tf.argmax(y,1))\n",
    "                    accuracy=tf.reduce_mean(tf.cast(correct,'float'))\n",
    "                    test_acc.append(accuracy.eval({x:x_test,y:y_test}))\n",
    "            \n",
    "\n",
    "            print ('Epoch', epoch+1,'completed out of',num_epoch,'loss:',epoch_loss[epoch])\n",
    "            print ('Accuracy :', test_acc[-1])\n",
    "            print (time.time() - start_time, 'sec')"
   ]
  },
  {
   "cell_type": "code",
   "execution_count": 81,
   "metadata": {},
   "outputs": [
    {
     "name": "stdout",
     "output_type": "stream",
     "text": [
      "Epoch 1 completed out of 15 loss: 923084.8688964844\n",
      "Accuracy : 0.21884604\n",
      "311.65618205070496 sec\n",
      "Epoch 2 completed out of 15 loss: 691856.8636474609\n",
      "Accuracy : 0.21811616\n",
      "550.4882080554962 sec\n",
      "Epoch 3 completed out of 15 loss: 1028669.4258422852\n",
      "Accuracy : 0.27592963\n",
      "781.8122220039368 sec\n",
      "Epoch 4 completed out of 15 loss: 1532265.5155639648\n",
      "Accuracy : 0.22399354\n",
      "1005.9210550785065 sec\n",
      "Epoch 5 completed out of 15 loss: 2067149.2430419922\n",
      "Accuracy : 0.32141212\n",
      "1268.994061946869 sec\n",
      "Epoch 6 completed out of 15 loss: 2913284.096557617\n",
      "Accuracy : 0.10948064\n",
      "1510.367527961731 sec\n",
      "Epoch 7 completed out of 15 loss: 3507450.1762695312\n",
      "Accuracy : 0.142248\n",
      "1733.3208289146423 sec\n"
     ]
    },
    {
     "ename": "KeyboardInterrupt",
     "evalue": "",
     "output_type": "error",
     "traceback": [
      "\u001b[0;31m---------------------------------------------------------------------------\u001b[0m",
      "\u001b[0;31mKeyboardInterrupt\u001b[0m                         Traceback (most recent call last)",
      "\u001b[0;32m<ipython-input-81-7d76efce9132>\u001b[0m in \u001b[0;36m<module>\u001b[0;34m()\u001b[0m\n\u001b[1;32m      7\u001b[0m \u001b[0;32mif\u001b[0m \u001b[0m__name__\u001b[0m\u001b[0;34m==\u001b[0m\u001b[0;34m\"__main__\"\u001b[0m\u001b[0;34m:\u001b[0m\u001b[0;34m\u001b[0m\u001b[0m\n\u001b[1;32m      8\u001b[0m     \u001b[0mstart_time\u001b[0m\u001b[0;34m=\u001b[0m\u001b[0mtime\u001b[0m\u001b[0;34m.\u001b[0m\u001b[0mtime\u001b[0m\u001b[0;34m(\u001b[0m\u001b[0;34m)\u001b[0m\u001b[0;34m\u001b[0m\u001b[0m\n\u001b[0;32m----> 9\u001b[0;31m     \u001b[0mtrain_neural_network\u001b[0m\u001b[0;34m(\u001b[0m\u001b[0mx\u001b[0m\u001b[0;34m,\u001b[0m\u001b[0;34m'adam'\u001b[0m\u001b[0;34m)\u001b[0m\u001b[0;34m\u001b[0m\u001b[0m\n\u001b[0m\u001b[1;32m     10\u001b[0m     \u001b[0mprint\u001b[0m \u001b[0;34m(\u001b[0m\u001b[0;34m\"Training Over. \\nNow you are a SuperSaiyan\\n\"\u001b[0m\u001b[0;34m)\u001b[0m\u001b[0;34m\u001b[0m\u001b[0m\n",
      "\u001b[0;32m<ipython-input-80-c0d2b6cf1c15>\u001b[0m in \u001b[0;36mtrain_neural_network\u001b[0;34m(x, optimizer)\u001b[0m\n\u001b[1;32m     22\u001b[0m                     \u001b[0mcorrect\u001b[0m\u001b[0;34m=\u001b[0m\u001b[0mtf\u001b[0m\u001b[0;34m.\u001b[0m\u001b[0mequal\u001b[0m\u001b[0;34m(\u001b[0m\u001b[0mtf\u001b[0m\u001b[0;34m.\u001b[0m\u001b[0margmax\u001b[0m\u001b[0;34m(\u001b[0m\u001b[0mprediction\u001b[0m\u001b[0;34m,\u001b[0m\u001b[0;36m1\u001b[0m\u001b[0;34m)\u001b[0m\u001b[0;34m,\u001b[0m\u001b[0mtf\u001b[0m\u001b[0;34m.\u001b[0m\u001b[0margmax\u001b[0m\u001b[0;34m(\u001b[0m\u001b[0my\u001b[0m\u001b[0;34m,\u001b[0m\u001b[0;36m1\u001b[0m\u001b[0;34m)\u001b[0m\u001b[0;34m)\u001b[0m\u001b[0;34m\u001b[0m\u001b[0m\n\u001b[1;32m     23\u001b[0m                     \u001b[0maccuracy\u001b[0m\u001b[0;34m=\u001b[0m\u001b[0mtf\u001b[0m\u001b[0;34m.\u001b[0m\u001b[0mreduce_mean\u001b[0m\u001b[0;34m(\u001b[0m\u001b[0mtf\u001b[0m\u001b[0;34m.\u001b[0m\u001b[0mcast\u001b[0m\u001b[0;34m(\u001b[0m\u001b[0mcorrect\u001b[0m\u001b[0;34m,\u001b[0m\u001b[0;34m'float'\u001b[0m\u001b[0;34m)\u001b[0m\u001b[0;34m)\u001b[0m\u001b[0;34m\u001b[0m\u001b[0m\n\u001b[0;32m---> 24\u001b[0;31m                     \u001b[0mtest_acc\u001b[0m\u001b[0;34m.\u001b[0m\u001b[0mappend\u001b[0m\u001b[0;34m(\u001b[0m\u001b[0maccuracy\u001b[0m\u001b[0;34m.\u001b[0m\u001b[0meval\u001b[0m\u001b[0;34m(\u001b[0m\u001b[0;34m{\u001b[0m\u001b[0mx\u001b[0m\u001b[0;34m:\u001b[0m\u001b[0mx_test\u001b[0m\u001b[0;34m,\u001b[0m\u001b[0my\u001b[0m\u001b[0;34m:\u001b[0m\u001b[0my_test\u001b[0m\u001b[0;34m}\u001b[0m\u001b[0;34m)\u001b[0m\u001b[0;34m)\u001b[0m\u001b[0;34m\u001b[0m\u001b[0m\n\u001b[0m\u001b[1;32m     25\u001b[0m \u001b[0;34m\u001b[0m\u001b[0m\n\u001b[1;32m     26\u001b[0m \u001b[0;34m\u001b[0m\u001b[0m\n",
      "\u001b[0;32m/anaconda3/envs/tensorflow/lib/python3.6/site-packages/tensorflow/python/framework/ops.py\u001b[0m in \u001b[0;36meval\u001b[0;34m(self, feed_dict, session)\u001b[0m\n\u001b[1;32m    678\u001b[0m \u001b[0;34m\u001b[0m\u001b[0m\n\u001b[1;32m    679\u001b[0m     \"\"\"\n\u001b[0;32m--> 680\u001b[0;31m     \u001b[0;32mreturn\u001b[0m \u001b[0m_eval_using_default_session\u001b[0m\u001b[0;34m(\u001b[0m\u001b[0mself\u001b[0m\u001b[0;34m,\u001b[0m \u001b[0mfeed_dict\u001b[0m\u001b[0;34m,\u001b[0m \u001b[0mself\u001b[0m\u001b[0;34m.\u001b[0m\u001b[0mgraph\u001b[0m\u001b[0;34m,\u001b[0m \u001b[0msession\u001b[0m\u001b[0;34m)\u001b[0m\u001b[0;34m\u001b[0m\u001b[0m\n\u001b[0m\u001b[1;32m    681\u001b[0m \u001b[0;34m\u001b[0m\u001b[0m\n\u001b[1;32m    682\u001b[0m \u001b[0;34m\u001b[0m\u001b[0m\n",
      "\u001b[0;32m/anaconda3/envs/tensorflow/lib/python3.6/site-packages/tensorflow/python/framework/ops.py\u001b[0m in \u001b[0;36m_eval_using_default_session\u001b[0;34m(tensors, feed_dict, graph, session)\u001b[0m\n\u001b[1;32m   4949\u001b[0m                        \u001b[0;34m\"the tensor's graph is different from the session's \"\u001b[0m\u001b[0;34m\u001b[0m\u001b[0m\n\u001b[1;32m   4950\u001b[0m                        \"graph.\")\n\u001b[0;32m-> 4951\u001b[0;31m   \u001b[0;32mreturn\u001b[0m \u001b[0msession\u001b[0m\u001b[0;34m.\u001b[0m\u001b[0mrun\u001b[0m\u001b[0;34m(\u001b[0m\u001b[0mtensors\u001b[0m\u001b[0;34m,\u001b[0m \u001b[0mfeed_dict\u001b[0m\u001b[0;34m)\u001b[0m\u001b[0;34m\u001b[0m\u001b[0m\n\u001b[0m\u001b[1;32m   4952\u001b[0m \u001b[0;34m\u001b[0m\u001b[0m\n\u001b[1;32m   4953\u001b[0m \u001b[0;34m\u001b[0m\u001b[0m\n",
      "\u001b[0;32m/anaconda3/envs/tensorflow/lib/python3.6/site-packages/tensorflow/python/client/session.py\u001b[0m in \u001b[0;36mrun\u001b[0;34m(self, fetches, feed_dict, options, run_metadata)\u001b[0m\n\u001b[1;32m    875\u001b[0m     \u001b[0;32mtry\u001b[0m\u001b[0;34m:\u001b[0m\u001b[0;34m\u001b[0m\u001b[0m\n\u001b[1;32m    876\u001b[0m       result = self._run(None, fetches, feed_dict, options_ptr,\n\u001b[0;32m--> 877\u001b[0;31m                          run_metadata_ptr)\n\u001b[0m\u001b[1;32m    878\u001b[0m       \u001b[0;32mif\u001b[0m \u001b[0mrun_metadata\u001b[0m\u001b[0;34m:\u001b[0m\u001b[0;34m\u001b[0m\u001b[0m\n\u001b[1;32m    879\u001b[0m         \u001b[0mproto_data\u001b[0m \u001b[0;34m=\u001b[0m \u001b[0mtf_session\u001b[0m\u001b[0;34m.\u001b[0m\u001b[0mTF_GetBuffer\u001b[0m\u001b[0;34m(\u001b[0m\u001b[0mrun_metadata_ptr\u001b[0m\u001b[0;34m)\u001b[0m\u001b[0;34m\u001b[0m\u001b[0m\n",
      "\u001b[0;32m/anaconda3/envs/tensorflow/lib/python3.6/site-packages/tensorflow/python/client/session.py\u001b[0m in \u001b[0;36m_run\u001b[0;34m(self, handle, fetches, feed_dict, options, run_metadata)\u001b[0m\n\u001b[1;32m   1098\u001b[0m     \u001b[0;32mif\u001b[0m \u001b[0mfinal_fetches\u001b[0m \u001b[0;32mor\u001b[0m \u001b[0mfinal_targets\u001b[0m \u001b[0;32mor\u001b[0m \u001b[0;34m(\u001b[0m\u001b[0mhandle\u001b[0m \u001b[0;32mand\u001b[0m \u001b[0mfeed_dict_tensor\u001b[0m\u001b[0;34m)\u001b[0m\u001b[0;34m:\u001b[0m\u001b[0;34m\u001b[0m\u001b[0m\n\u001b[1;32m   1099\u001b[0m       results = self._do_run(handle, final_targets, final_fetches,\n\u001b[0;32m-> 1100\u001b[0;31m                              feed_dict_tensor, options, run_metadata)\n\u001b[0m\u001b[1;32m   1101\u001b[0m     \u001b[0;32melse\u001b[0m\u001b[0;34m:\u001b[0m\u001b[0;34m\u001b[0m\u001b[0m\n\u001b[1;32m   1102\u001b[0m       \u001b[0mresults\u001b[0m \u001b[0;34m=\u001b[0m \u001b[0;34m[\u001b[0m\u001b[0;34m]\u001b[0m\u001b[0;34m\u001b[0m\u001b[0m\n",
      "\u001b[0;32m/anaconda3/envs/tensorflow/lib/python3.6/site-packages/tensorflow/python/client/session.py\u001b[0m in \u001b[0;36m_do_run\u001b[0;34m(self, handle, target_list, fetch_list, feed_dict, options, run_metadata)\u001b[0m\n\u001b[1;32m   1270\u001b[0m     \u001b[0;32mif\u001b[0m \u001b[0mhandle\u001b[0m \u001b[0;32mis\u001b[0m \u001b[0;32mNone\u001b[0m\u001b[0;34m:\u001b[0m\u001b[0;34m\u001b[0m\u001b[0m\n\u001b[1;32m   1271\u001b[0m       return self._do_call(_run_fn, feeds, fetches, targets, options,\n\u001b[0;32m-> 1272\u001b[0;31m                            run_metadata)\n\u001b[0m\u001b[1;32m   1273\u001b[0m     \u001b[0;32melse\u001b[0m\u001b[0;34m:\u001b[0m\u001b[0;34m\u001b[0m\u001b[0m\n\u001b[1;32m   1274\u001b[0m       \u001b[0;32mreturn\u001b[0m \u001b[0mself\u001b[0m\u001b[0;34m.\u001b[0m\u001b[0m_do_call\u001b[0m\u001b[0;34m(\u001b[0m\u001b[0m_prun_fn\u001b[0m\u001b[0;34m,\u001b[0m \u001b[0mhandle\u001b[0m\u001b[0;34m,\u001b[0m \u001b[0mfeeds\u001b[0m\u001b[0;34m,\u001b[0m \u001b[0mfetches\u001b[0m\u001b[0;34m)\u001b[0m\u001b[0;34m\u001b[0m\u001b[0m\n",
      "\u001b[0;32m/anaconda3/envs/tensorflow/lib/python3.6/site-packages/tensorflow/python/client/session.py\u001b[0m in \u001b[0;36m_do_call\u001b[0;34m(self, fn, *args)\u001b[0m\n\u001b[1;32m   1276\u001b[0m   \u001b[0;32mdef\u001b[0m \u001b[0m_do_call\u001b[0m\u001b[0;34m(\u001b[0m\u001b[0mself\u001b[0m\u001b[0;34m,\u001b[0m \u001b[0mfn\u001b[0m\u001b[0;34m,\u001b[0m \u001b[0;34m*\u001b[0m\u001b[0margs\u001b[0m\u001b[0;34m)\u001b[0m\u001b[0;34m:\u001b[0m\u001b[0;34m\u001b[0m\u001b[0m\n\u001b[1;32m   1277\u001b[0m     \u001b[0;32mtry\u001b[0m\u001b[0;34m:\u001b[0m\u001b[0;34m\u001b[0m\u001b[0m\n\u001b[0;32m-> 1278\u001b[0;31m       \u001b[0;32mreturn\u001b[0m \u001b[0mfn\u001b[0m\u001b[0;34m(\u001b[0m\u001b[0;34m*\u001b[0m\u001b[0margs\u001b[0m\u001b[0;34m)\u001b[0m\u001b[0;34m\u001b[0m\u001b[0m\n\u001b[0m\u001b[1;32m   1279\u001b[0m     \u001b[0;32mexcept\u001b[0m \u001b[0merrors\u001b[0m\u001b[0;34m.\u001b[0m\u001b[0mOpError\u001b[0m \u001b[0;32mas\u001b[0m \u001b[0me\u001b[0m\u001b[0;34m:\u001b[0m\u001b[0;34m\u001b[0m\u001b[0m\n\u001b[1;32m   1280\u001b[0m       \u001b[0mmessage\u001b[0m \u001b[0;34m=\u001b[0m \u001b[0mcompat\u001b[0m\u001b[0;34m.\u001b[0m\u001b[0mas_text\u001b[0m\u001b[0;34m(\u001b[0m\u001b[0me\u001b[0m\u001b[0;34m.\u001b[0m\u001b[0mmessage\u001b[0m\u001b[0;34m)\u001b[0m\u001b[0;34m\u001b[0m\u001b[0m\n",
      "\u001b[0;32m/anaconda3/envs/tensorflow/lib/python3.6/site-packages/tensorflow/python/client/session.py\u001b[0m in \u001b[0;36m_run_fn\u001b[0;34m(feed_dict, fetch_list, target_list, options, run_metadata)\u001b[0m\n\u001b[1;32m   1261\u001b[0m       \u001b[0mself\u001b[0m\u001b[0;34m.\u001b[0m\u001b[0m_extend_graph\u001b[0m\u001b[0;34m(\u001b[0m\u001b[0;34m)\u001b[0m\u001b[0;34m\u001b[0m\u001b[0m\n\u001b[1;32m   1262\u001b[0m       return self._call_tf_sessionrun(\n\u001b[0;32m-> 1263\u001b[0;31m           options, feed_dict, fetch_list, target_list, run_metadata)\n\u001b[0m\u001b[1;32m   1264\u001b[0m \u001b[0;34m\u001b[0m\u001b[0m\n\u001b[1;32m   1265\u001b[0m     \u001b[0;32mdef\u001b[0m \u001b[0m_prun_fn\u001b[0m\u001b[0;34m(\u001b[0m\u001b[0mhandle\u001b[0m\u001b[0;34m,\u001b[0m \u001b[0mfeed_dict\u001b[0m\u001b[0;34m,\u001b[0m \u001b[0mfetch_list\u001b[0m\u001b[0;34m)\u001b[0m\u001b[0;34m:\u001b[0m\u001b[0;34m\u001b[0m\u001b[0m\n",
      "\u001b[0;32m/anaconda3/envs/tensorflow/lib/python3.6/site-packages/tensorflow/python/client/session.py\u001b[0m in \u001b[0;36m_call_tf_sessionrun\u001b[0;34m(self, options, feed_dict, fetch_list, target_list, run_metadata)\u001b[0m\n\u001b[1;32m   1348\u001b[0m     return tf_session.TF_SessionRun_wrapper(\n\u001b[1;32m   1349\u001b[0m         \u001b[0mself\u001b[0m\u001b[0;34m.\u001b[0m\u001b[0m_session\u001b[0m\u001b[0;34m,\u001b[0m \u001b[0moptions\u001b[0m\u001b[0;34m,\u001b[0m \u001b[0mfeed_dict\u001b[0m\u001b[0;34m,\u001b[0m \u001b[0mfetch_list\u001b[0m\u001b[0;34m,\u001b[0m \u001b[0mtarget_list\u001b[0m\u001b[0;34m,\u001b[0m\u001b[0;34m\u001b[0m\u001b[0m\n\u001b[0;32m-> 1350\u001b[0;31m         run_metadata)\n\u001b[0m\u001b[1;32m   1351\u001b[0m \u001b[0;34m\u001b[0m\u001b[0m\n\u001b[1;32m   1352\u001b[0m   \u001b[0;32mdef\u001b[0m \u001b[0m_call_tf_sessionprun\u001b[0m\u001b[0;34m(\u001b[0m\u001b[0mself\u001b[0m\u001b[0;34m,\u001b[0m \u001b[0mhandle\u001b[0m\u001b[0;34m,\u001b[0m \u001b[0mfeed_dict\u001b[0m\u001b[0;34m,\u001b[0m \u001b[0mfetch_list\u001b[0m\u001b[0;34m)\u001b[0m\u001b[0;34m:\u001b[0m\u001b[0;34m\u001b[0m\u001b[0m\n",
      "\u001b[0;31mKeyboardInterrupt\u001b[0m: "
     ]
    }
   ],
   "source": [
    "num_epoch=15\n",
    "f=2 #frequency : number of times in an epoch we want to measure the accuracy\n",
    "batch_size=128\n",
    "epoch_loss=np.zeros(num_epoch)\n",
    "test_acc=[]\n",
    "\n",
    "if __name__==\"__main__\":\n",
    "    start_time=time.time()\n",
    "    train_neural_network(x,'adam')\n",
    "    print (\"Training Over. \\nNow you are a SuperSaiyan\\n\")"
   ]
  },
  {
   "cell_type": "code",
   "execution_count": null,
   "metadata": {},
   "outputs": [],
   "source": [
    "x_axis1=np.arange(num_epoch)\n",
    "x_axis2= np.arange(0,num_epoch,1/f)"
   ]
  },
  {
   "cell_type": "code",
   "execution_count": null,
   "metadata": {},
   "outputs": [],
   "source": [
    "trace0=go.Scatter(x=x_axis1,y=epoch_loss)\n",
    "trace1=go.Scatter(x=x_axis2,y=test_acc)\n",
    "data=([trace0])\n",
    "py.iplot(data,filename='svhn_adam_loss')"
   ]
  },
  {
   "cell_type": "code",
   "execution_count": null,
   "metadata": {},
   "outputs": [],
   "source": [
    "data=([trace1])\n",
    "py.iplot(data,filename='svhn_adam_acc')"
   ]
  },
  {
   "cell_type": "code",
   "execution_count": 66,
   "metadata": {},
   "outputs": [
    {
     "data": {
      "text/plain": [
       "<matplotlib.image.AxesImage at 0xb32ae89b0>"
      ]
     },
     "execution_count": 66,
     "metadata": {},
     "output_type": "execute_result"
    },
    {
     "data": {
      "image/png": "[encoded data removed]",
      "text/plain": [
       "<Figure size 720x1440 with 1 Axes>"
      ]
     },
     "metadata": {},
     "output_type": "display_data"
    }
   ],
   "source": [
    "%matplotlib inline\n",
    "import numpy as np\n",
    "from scipy import misc\n",
    "import matplotlib.pyplot as plt\n",
    "\n",
    "img=x_test[3]\n",
    "img=img/255\n",
    "plt.figure(figsize=(10,20))\n",
    "plt.imshow(img)"
   ]
  },
  {
   "cell_type": "code",
   "execution_count": 67,
   "metadata": {},
   "outputs": [
    {
     "data": {
      "text/plain": [
       "array([10], dtype=uint8)"
      ]
     },
     "execution_count": 67,
     "metadata": {},
     "output_type": "execute_result"
    }
   ],
   "source": []
  },
  {
   "cell_type": "code",
   "execution_count": 189,
   "metadata": {},
   "outputs": [
    {
     "name": "stdout",
     "output_type": "stream",
     "text": [
      "Epoch 1 completed out of 15 loss: 216050.52932584286\n",
      "18.33847689628601 sec\n",
      "Epoch 2 completed out of 15 loss: 54044.441793084145\n",
      "27.71073293685913 sec\n",
      "Epoch 3 completed out of 15 loss: 29889.7853683273\n",
      "38.00689101219177 sec\n",
      "Epoch 4 completed out of 15 loss: 17047.545924307546\n",
      "48.064910888671875 sec\n",
      "Epoch 5 completed out of 15 loss: 10386.48233327642\n",
      "58.15698003768921 sec\n",
      "Epoch 6 completed out of 15 loss: 7190.146000626171\n",
      "67.6778609752655 sec\n",
      "Epoch 7 completed out of 15 loss: 4956.68605023308\n",
      "79.25722098350525 sec\n",
      "Epoch 8 completed out of 15 loss: 3427.2340769574016\n",
      "91.49116706848145 sec\n",
      "Epoch 9 completed out of 15 loss: 3507.5167796234164\n",
      "102.40631008148193 sec\n",
      "Epoch 10 completed out of 15 loss: 3447.9334479903614\n",
      "113.9291479587555 sec\n",
      "Epoch 11 completed out of 15 loss: 2630.8996524894173\n",
      "125.75755190849304 sec\n",
      "Epoch 12 completed out of 15 loss: 2793.954569757284\n",
      "138.2298882007599 sec\n",
      "Epoch 13 completed out of 15 loss: 2358.9378678427324\n",
      "149.7964870929718 sec\n",
      "Epoch 14 completed out of 15 loss: 1542.5547953307405\n",
      "159.66984295845032 sec\n",
      "Epoch 15 completed out of 15 loss: 2423.5182222582407\n",
      "169.8575520515442 sec\n",
      "Training Over. \n",
      "Now you are a SuperSaiyan\n",
      "\n"
     ]
    }
   ],
   "source": [
    "num_epoch=15\n",
    "f=2\n",
    "epoch_loss=np.zeros(num_epoch)\n",
    "test_acc=[]\n",
    "\n",
    "if __name__==\"__main__\":\n",
    "    start_time=time.time()\n",
    "    train_neural_network(x,'adam')\n",
    "    print (\"Training Over. \\nNow you are a SuperSaiyan\\n\")"
   ]
  },
  {
   "cell_type": "code",
   "execution_count": 41,
   "metadata": {},
   "outputs": [],
   "source": [
    "from plotly.offline import download_plotlyjs, init_notebook_mode, plot, iplot\n",
    "import plotly\n",
    "plotly.tools.set_credentials_file(username='ymehta95', api_key='TVHPG5E24omQeUyWougP')"
   ]
  },
  {
   "cell_type": "code",
   "execution_count": 42,
   "metadata": {},
   "outputs": [],
   "source": [
    "x_axis1=np.arange(num_epoch)\n",
    "x_axis2= np.arange(0,num_epoch,1/f)"
   ]
  },
  {
   "cell_type": "code",
   "execution_count": 43,
   "metadata": {},
   "outputs": [
    {
     "ename": "NameError",
     "evalue": "name 'go' is not defined",
     "output_type": "error",
     "traceback": [
      "\u001b[0;31m---------------------------------------------------------------------------\u001b[0m",
      "\u001b[0;31mNameError\u001b[0m                                 Traceback (most recent call last)",
      "\u001b[0;32m<ipython-input-43-f7ca05bf0414>\u001b[0m in \u001b[0;36m<module>\u001b[0;34m()\u001b[0m\n\u001b[0;32m----> 1\u001b[0;31m \u001b[0mtrace0\u001b[0m\u001b[0;34m=\u001b[0m\u001b[0mgo\u001b[0m\u001b[0;34m.\u001b[0m\u001b[0mScatter\u001b[0m\u001b[0;34m(\u001b[0m\u001b[0mx\u001b[0m\u001b[0;34m=\u001b[0m\u001b[0mx_axis1\u001b[0m\u001b[0;34m,\u001b[0m\u001b[0my\u001b[0m\u001b[0;34m=\u001b[0m\u001b[0mepoch_loss\u001b[0m\u001b[0;34m)\u001b[0m\u001b[0;34m\u001b[0m\u001b[0m\n\u001b[0m\u001b[1;32m      2\u001b[0m \u001b[0mtrace1\u001b[0m\u001b[0;34m=\u001b[0m\u001b[0mgo\u001b[0m\u001b[0;34m.\u001b[0m\u001b[0mScatter\u001b[0m\u001b[0;34m(\u001b[0m\u001b[0mx\u001b[0m\u001b[0;34m=\u001b[0m\u001b[0mx_axis2\u001b[0m\u001b[0;34m,\u001b[0m\u001b[0my\u001b[0m\u001b[0;34m=\u001b[0m\u001b[0mtest_acc\u001b[0m\u001b[0;34m)\u001b[0m\u001b[0;34m\u001b[0m\u001b[0m\n\u001b[1;32m      3\u001b[0m \u001b[0mdata\u001b[0m\u001b[0;34m=\u001b[0m\u001b[0;34m(\u001b[0m\u001b[0;34m[\u001b[0m\u001b[0mtrace0\u001b[0m\u001b[0;34m]\u001b[0m\u001b[0;34m)\u001b[0m\u001b[0;34m\u001b[0m\u001b[0m\n\u001b[1;32m      4\u001b[0m \u001b[0mpy\u001b[0m\u001b[0;34m.\u001b[0m\u001b[0miplot\u001b[0m\u001b[0;34m(\u001b[0m\u001b[0mdata\u001b[0m\u001b[0;34m,\u001b[0m\u001b[0mfilename\u001b[0m\u001b[0;34m=\u001b[0m\u001b[0;34m'mnist_adam_loss'\u001b[0m\u001b[0;34m)\u001b[0m\u001b[0;34m\u001b[0m\u001b[0m\n",
      "\u001b[0;31mNameError\u001b[0m: name 'go' is not defined"
     ]
    }
   ],
   "source": [
    "trace0=go.Scatter(x=x_axis1,y=epoch_loss)\n",
    "trace1=go.Scatter(x=x_axis2,y=test_acc)\n",
    "data=([trace0])\n",
    "py.iplot(data,filename='svhn_adam_loss')"
   ]
  },
  {
   "cell_type": "code",
   "execution_count": 192,
   "metadata": {},
   "outputs": [
    {
     "data": {
      "text/html": [
       "<iframe id=\"igraph\" scrolling=\"no\" style=\"border:none;\" seamless=\"seamless\" src=\"https://plot.ly/~ymehta95/8.embed\" height=\"525px\" width=\"100%\"></iframe>"
      ],
      "text/plain": [
       "<plotly.tools.PlotlyDisplay object>"
      ]
     },
     "execution_count": 192,
     "metadata": {},
     "output_type": "execute_result"
    }
   ],
   "source": [
    "data=([trace1])\n",
    "py.iplot(data,filename='svhn_adam_acc')"
   ]
  },
  {
   "cell_type": "code",
   "execution_count": 226,
   "metadata": {},
   "outputs": [
    {
     "name": "stdout",
     "output_type": "stream",
     "text": [
      "Epoch 1 completed out of 15 loss: 197529.08947753906\n",
      "14.626976728439331 sec\n",
      "Epoch 2 completed out of 15 loss: 70374.04839038849\n",
      "23.887115716934204 sec\n",
      "Epoch 3 completed out of 15 loss: 48902.09960216284\n",
      "32.84867191314697 sec\n",
      "Epoch 4 completed out of 15 loss: 36237.56115722656\n",
      "42.171910762786865 sec\n",
      "Epoch 5 completed out of 15 loss: 28252.46984565258\n",
      "51.13342785835266 sec\n",
      "Epoch 6 completed out of 15 loss: 22268.41633850336\n",
      "59.907628774642944 sec\n",
      "Epoch 7 completed out of 15 loss: 18130.943677514522\n",
      "69.3622977733612 sec\n",
      "Epoch 8 completed out of 15 loss: 14363.760095721027\n",
      "81.4216639995575 sec\n",
      "Epoch 9 completed out of 15 loss: 12594.411860768196\n",
      "92.80380082130432 sec\n",
      "Epoch 10 completed out of 15 loss: 9646.091426735571\n",
      "104.54353785514832 sec\n",
      "Epoch 11 completed out of 15 loss: 8555.11327900162\n",
      "116.27288484573364 sec\n",
      "Epoch 12 completed out of 15 loss: 6715.565016703496\n",
      "125.65238976478577 sec\n",
      "Epoch 13 completed out of 15 loss: 5586.246938849034\n",
      "134.91314673423767 sec\n",
      "Epoch 14 completed out of 15 loss: 4765.244921774262\n",
      "145.21437883377075 sec\n",
      "Epoch 15 completed out of 15 loss: 3877.9993453265943\n",
      "154.24330282211304 sec\n",
      "Training Over. \n",
      "Now you are a SuperSaiyan\n",
      "\n"
     ]
    }
   ],
   "source": [
    "#training with sgd\n",
    "num_epoch=15\n",
    "f=2\n",
    "epoch_loss=np.zeros(num_epoch)\n",
    "test_acc=[]\n",
    "\n",
    "if __name__==\"__main__\":\n",
    "    start_time=time.time()\n",
    "    train_neural_network(x,'sgd')\n",
    "    print (\"Training Over. \\nNow you are a SuperSaiyan\\n\")"
   ]
  },
  {
   "cell_type": "code",
   "execution_count": 227,
   "metadata": {},
   "outputs": [
    {
     "data": {
      "text/html": [
       "<iframe id=\"igraph\" scrolling=\"no\" style=\"border:none;\" seamless=\"seamless\" src=\"https://plot.ly/~ymehta95/12.embed\" height=\"525px\" width=\"100%\"></iframe>"
      ],
      "text/plain": [
       "<plotly.tools.PlotlyDisplay object>"
      ]
     },
     "execution_count": 227,
     "metadata": {},
     "output_type": "execute_result"
    }
   ],
   "source": [
    "trace0=go.Scatter(x=x_axis1,y=epoch_loss)\n",
    "trace1=go.Scatter(x=x_axis2,y=test_acc)\n",
    "data=([trace0])\n",
    "py.iplot(data,filename='mnist_sgd_loss')"
   ]
  },
  {
   "cell_type": "code",
   "execution_count": 228,
   "metadata": {},
   "outputs": [
    {
     "data": {
      "text/html": [
       "<iframe id=\"igraph\" scrolling=\"no\" style=\"border:none;\" seamless=\"seamless\" src=\"https://plot.ly/~ymehta95/14.embed\" height=\"525px\" width=\"100%\"></iframe>"
      ],
      "text/plain": [
       "<plotly.tools.PlotlyDisplay object>"
      ]
     },
     "execution_count": 228,
     "metadata": {},
     "output_type": "execute_result"
    }
   ],
   "source": [
    "data=([trace1])\n",
    "py.iplot(data,filename='mnist_sgd_acc')"
   ]
  }
 ],
 "metadata": {
  "kernelspec": {
   "display_name": "Python 3",
   "language": "python",
   "name": "python3"
  },
  "language_info": {
   "codemirror_mode": {
    "name": "ipython",
    "version": 3
   },
   "file_extension": ".py",
   "mimetype": "text/x-python",
   "name": "python",
   "nbconvert_exporter": "python",
   "pygments_lexer": "ipython3",
   "version": "3.6.6"
  }
 },
 "nbformat": 4,
 "nbformat_minor": 2
}
