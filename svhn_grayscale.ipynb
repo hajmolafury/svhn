{
  "nbformat": 4,
  "nbformat_minor": 0,
  "metadata": {
    "colab": {
      "name": "svhn_grayscale.ipynb",
      "version": "0.3.2",
      "provenance": [],
      "collapsed_sections": [],
      "include_colab_link": true
    },
    "kernelspec": {
      "name": "python3",
      "display_name": "Python 3"
    },
    "accelerator": "GPU"
  },
  "cells": [
    {
      "cell_type": "markdown",
      "metadata": {
        "id": "view-in-github",
        "colab_type": "text"
      },
      "source": [
        "<a href=\"https://colab.research.google.com/github/hajmolafury/svhn/blob/master/svhn_grayscale.ipynb\" target=\"_parent\"><img src=\"https://colab.research.google.com/assets/colab-badge.svg\" alt=\"Open In Colab\"/></a>"
      ]
    },
    {
      "metadata": {
        "id": "WI0hbV9dJJT4",
        "colab_type": "text"
      },
      "cell_type": "markdown",
      "source": [
        "####Import necessary libraries\n",
        "👇🏻 cell : Tensorflow, Plotly (for interactive plots), Matplotlib (for showing images from matrix), etc.\n",
        "\n"
      ]
    },
    {
      "metadata": {
        "id": "rmnsLEcBIpdl",
        "colab_type": "code",
        "colab": {}
      },
      "cell_type": "code",
      "source": [
        "import time\n",
        "import tensorflow as tf\n",
        "import numpy as np\n",
        "import scipy as sp\n",
        "import scipy.io as sio\n",
        "from scipy.misc import *\n",
        "import os\n",
        "os.environ['TF_CPP_MIN_LOG_LEVEL']='2'\n",
        "\n",
        "from plotly.offline import download_plotlyjs, init_notebook_mode, plot, iplot\n",
        "import plotly\n",
        "plotly.tools.set_credentials_file(username='ymehta95', api_key='TVHPG5E24omQeUyWougP')\n",
        "import plotly.plotly as py\n",
        "import plotly.graph_objs as go\n",
        "\n",
        "%matplotlib inline\n",
        "import numpy as np\n",
        "from scipy import misc\n",
        "import matplotlib.pyplot as plt"
      ],
      "execution_count": 0,
      "outputs": []
    },
    {
      "metadata": {
        "id": "SCSCFVzPHy7F",
        "colab_type": "text"
      },
      "cell_type": "markdown",
      "source": [
        "####Google Drive Access\n",
        "👇🏻 cell : Gives our Colab notebook access to data present in Google Drive. The SVHN dataset is uploaded on Drive and the Google Server which hosts this notebook takes input from the Drive."
      ]
    },
    {
      "metadata": {
        "id": "8k2bHCzNIq1m",
        "colab_type": "code",
        "outputId": "5f0d5660-3ea8-4322-bcfc-1da38ca620f7",
        "colab": {
          "base_uri": "https://localhost:8080/",
          "height": 124
        }
      },
      "cell_type": "code",
      "source": [
        "from google.colab import drive\n",
        "drive.mount('/content/drive')"
      ],
      "execution_count": 1,
      "outputs": [
        {
          "output_type": "stream",
          "text": [
            "Go to this URL in a browser: https://accounts.google.com/o/oauth2/auth?client_id=947318989803-6bn6qk8qdgf4n4g3pfee6491hc0brc4i.apps.googleusercontent.com&redirect_uri=urn%3Aietf%3Awg%3Aoauth%3A2.0%3Aoob&scope=email%20https%3A%2F%2Fwww.googleapis.com%2Fauth%2Fdocs.test%20https%3A%2F%2Fwww.googleapis.com%2Fauth%2Fdrive%20https%3A%2F%2Fwww.googleapis.com%2Fauth%2Fdrive.photos.readonly%20https%3A%2F%2Fwww.googleapis.com%2Fauth%2Fpeopleapi.readonly&response_type=code\n",
            "\n",
            "Enter your authorization code:\n",
            "··········\n",
            "Mounted at /content/drive\n"
          ],
          "name": "stdout"
        }
      ]
    },
    {
      "metadata": {
        "id": "sYq0m6lBJ1va",
        "colab_type": "text"
      },
      "cell_type": "markdown",
      "source": [
        "####Data load & preprocessing\n",
        "👇🏻 cell : loads the training and testing images from Google Drive. Preprocessing involves changing the data tensor into the shape we want as well as converting all the images to grayscale and flattening them. We also convert the labels (y) to one-hot encoding matrix."
      ]
    },
    {
      "metadata": {
        "id": "FG6ar9nEIpdn",
        "colab_type": "code",
        "colab": {}
      },
      "cell_type": "code",
      "source": [
        "file_path='/content/drive/My Drive/clouderizer/Clouderizer-svhn/data'\n",
        "\n",
        "def __store_data(data, num_of_examples):\n",
        "    d = []\n",
        "\n",
        "    for i in range(num_of_examples):\n",
        "        d.append(data[:, :, :, i])\n",
        "\n",
        "    return np.asarray(d)\n",
        "  \n",
        "def rgb2gray(rgb):\n",
        "  return np.dot(rgb[...,:3], [0.299, 0.587, 0.114])\n",
        "\n",
        "\n",
        "train = sio.loadmat(file_path + \"/train_32x32.mat\")\n",
        "y_train = train['y']\n",
        "train_examples = train['X'].shape[3]\n",
        "x_train = __store_data(train['X'].astype(\"float32\"), train_examples)\n",
        "x_train=x_train/255\n",
        "rgbx_train=x_train\n",
        "x_train=rgb2gray(x_train)\n",
        "grayx_train=x_train\n",
        "x_train=tf.Session().run(tf.reshape(grayx_train, [train_examples,1024]))\n",
        "\n",
        "\n",
        "test = sio.loadmat(file_path+\"/test_32x32.mat\")\n",
        "y_test = test['y']\n",
        "test_examples = test['X'].shape[3]\n",
        "x_test = __store_data(test['X'].astype(\"float32\"), test_examples)\n",
        "x_test=x_test/255\n",
        "rgbx_test=x_test\n",
        "x_test=rgb2gray(x_test)\n",
        "grayx_test=x_test\n",
        "x_test=tf.Session().run(tf.reshape(grayx_test, [test_examples,1024]))\n",
        "\n",
        "coldy_train=y_train\n",
        "coldy_test=y_test\n",
        "# coldy_train=tf.Session().run(tf.reshape(coldy_train, [train_examples]))\n",
        "# coldy_test=tf.Session().run(tf.reshape(coldy_test, [test_examples]))\n",
        "\n",
        "y_train=tf.Session().run(tf.reshape(tf.Session().run(tf.one_hot(coldy_train,depth=11)),[train_examples,n_classes]))\n",
        "y_test=tf.Session().run(tf.reshape(tf.Session().run(tf.one_hot(coldy_test,depth=11)),[test_examples,n_classes]))"
      ],
      "execution_count": 0,
      "outputs": []
    },
    {
      "metadata": {
        "id": "TgTB4LAhK9f0",
        "colab_type": "text"
      },
      "cell_type": "markdown",
      "source": [
        "####Verify Data\n",
        "👇🏻 cell : check if the data has been loaded and if the grayscale conversion is working as planned."
      ]
    },
    {
      "metadata": {
        "id": "iIgDiKk1EuOG",
        "colab_type": "code",
        "outputId": "ac50cdc8-c3fa-4b39-96c6-8b0fe6cf8253",
        "colab": {
          "base_uri": "https://localhost:8080/",
          "height": 623
        }
      },
      "cell_type": "code",
      "source": [
        "img=rgbx_test[0]\n",
        "plt.figure(figsize=(10,20))\n",
        "plt.imshow(img)"
      ],
      "execution_count": 36,
      "outputs": [
        {
          "output_type": "execute_result",
          "data": {
            "text/plain": [
              "<matplotlib.image.AxesImage at 0x7f59834f3a20>"
            ]
          },
          "metadata": {
            "tags": []
          },
          "execution_count": 36
        },
        {
          "output_type": "display_data",
          "data": {
            "image/png": "[encoded data removed]",
            "text/plain": [
              "<matplotlib.figure.Figure at 0x7f598352acf8>"
            ]
          },
          "metadata": {
            "tags": []
          }
        }
      ]
    },
    {
      "metadata": {
        "id": "oD4jugu8DOAI",
        "colab_type": "code",
        "outputId": "dd3358b3-4108-4423-aa3c-58136565d851",
        "colab": {
          "base_uri": "https://localhost:8080/",
          "height": 623
        }
      },
      "cell_type": "code",
      "source": [
        "img=grayx_test[0]\n",
        "plt.figure(figsize=(10,20))\n",
        "plt.imshow(img, cmap='gray')"
      ],
      "execution_count": 37,
      "outputs": [
        {
          "output_type": "execute_result",
          "data": {
            "text/plain": [
              "<matplotlib.image.AxesImage at 0x7f59834589e8>"
            ]
          },
          "metadata": {
            "tags": []
          },
          "execution_count": 37
        },
        {
          "output_type": "display_data",
          "data": {
            "image/png": "[encoded data removed]",
            "text/plain": [
              "<matplotlib.figure.Figure at 0x7f598356d710>"
            ]
          },
          "metadata": {
            "tags": []
          }
        }
      ]
    },
    {
      "metadata": {
        "id": "j0211LP4MHUJ",
        "colab_type": "text"
      },
      "cell_type": "markdown",
      "source": [
        "####Define network architecture\n",
        "👇🏻 cell : we define the number of hidden layers, the nodes in each of the layers, which activation function should be used, weight initialization; basically set all the 'parameters' of the network."
      ]
    },
    {
      "metadata": {
        "id": "xKZf0cbAIpd0",
        "colab_type": "code",
        "colab": {}
      },
      "cell_type": "code",
      "source": [
        "nodes_hl1=1000\n",
        "nodes_hl2=1000\n",
        "n_classes=11\n",
        "\n",
        "x=tf.placeholder('float',[None,1024])\n",
        "y=tf.placeholder('float')\n",
        "\n",
        "\n",
        "def neural_network(data):\n",
        "  \n",
        "    #initializer= tf.contrib.layers.xavier_initializer()\n",
        "    initializer=tf.keras.initializers.he_normal()\n",
        "    \n",
        "    hl1={'weights':tf.Variable(initializer([1024,nodes_hl1])),'bias':tf.Variable(initializer([nodes_hl1]))}\n",
        "    hl2={'weights':tf.Variable(initializer([nodes_hl1,nodes_hl2])),'bias':tf.Variable(initializer([nodes_hl2]))}\n",
        "    output_layer={'weights':tf.Variable(initializer([nodes_hl2,n_classes])),'bias':tf.Variable(initializer([n_classes]))}\n",
        "    \n",
        "    \n",
        "    l1=tf.add(tf.matmul(data,hl1['weights']),hl1['bias'])\n",
        "    l1=tf.nn.relu(l1)\n",
        "                                                                                        \n",
        "    l2=tf.add(tf.matmul(l1,hl2['weights']),hl2['bias'])\n",
        "    l2=tf.nn.relu(l2)\n",
        "                                                                                           \n",
        "    output=tf.nn.sigmoid(tf.add(tf.matmul(l2,output_layer['weights']),output_layer['bias']))\n",
        "                                                                                           \n",
        "    return output"
      ],
      "execution_count": 0,
      "outputs": []
    },
    {
      "metadata": {
        "id": "ltDdrUCvM-WJ",
        "colab_type": "text"
      },
      "cell_type": "markdown",
      "source": [
        "####Training!\n",
        "👇🏻 cell : run the tf session feeding training data in mini-batches. Here we define the loss function of the network along with the optimizer. We continuously keep saving the loss and accuracies as the network gets trained so that we may plot them later."
      ]
    },
    {
      "metadata": {
        "id": "OEOCGrDhIpd4",
        "colab_type": "code",
        "colab": {}
      },
      "cell_type": "code",
      "source": [
        "def train_neural_network(optimizer):\n",
        "    prediction=neural_network(x)\n",
        "    prediction=tf.nn.softmax(prediction)\n",
        "    \n",
        "    loss=tf.reduce_mean(tf.nn.softmax_cross_entropy_with_logits_v2(logits=prediction,labels=y))\n",
        "    \n",
        "    if optimizer=='adam':\n",
        "        optimize=tf.train.AdamOptimizer(learning_rate=0.00015).minimize(loss)\n",
        "    if optimizer=='sgd':\n",
        "        optimize=tf.train.GradientDescentOptimizer(learning_rate=0.001).minimize(cost)\n",
        "        \n",
        "   \n",
        "    with tf.Session() as sess:\n",
        "        sess.run(tf.global_variables_initializer())\n",
        "        \n",
        "        for epoch in range(num_epoch):\n",
        "            for i in range(0, train_examples, batch_size):\n",
        "                # Get pair of (X, y) of the current minibatch/chunk\n",
        "                batch_x = x_train[i:i + batch_size]\n",
        "                batch_y = y_train[i:i + batch_size]\n",
        "                _, l=sess.run([optimize, loss],feed_dict={x:batch_x,y:batch_y})\n",
        "                epoch_loss[epoch]+=l\n",
        "                \n",
        "                \n",
        "            correct=tf.equal(tf.argmax(prediction,1),tf.argmax(y,1))\n",
        "            accuracy=tf.reduce_mean(tf.cast(correct,'float'))\n",
        "            test_acc.append(accuracy.eval({x:x_test,y:y_test}))\n",
        "              \n",
        "\n",
        "            print ('Epoch', epoch+1,'completed out of',num_epoch,'loss:',epoch_loss[epoch])            \n",
        "            print ('Test Accuracy :', test_acc[-1])\n",
        "            print (time.time() - start_time, 'sec')\n",
        "            if (epoch-9)%10 == 0:\n",
        "                print()\n",
        "                train_acc.append(accuracy.eval({x:x_train,y:y_train}))\n",
        "                print('Training Accuracy :', train_acc[-1])\n",
        "                \n",
        "                "
      ],
      "execution_count": 0,
      "outputs": []
    },
    {
      "metadata": {
        "id": "pV_aDU2nN9oF",
        "colab_type": "text"
      },
      "cell_type": "markdown",
      "source": [
        "####Main Function\n",
        "👇🏻 cell : calls the network training function and sets training parameters like number of epochs and mini-batch size. First we train the network using **Adam Optimizer.**"
      ]
    },
    {
      "metadata": {
        "id": "xRzGtlk-Ipd7",
        "colab_type": "code",
        "outputId": "3b5f93c4-700b-42f2-97a2-bee741718175",
        "colab": {
          "base_uri": "https://localhost:8080/",
          "height": 8405
        }
      },
      "cell_type": "code",
      "source": [
        "num_epoch=150\n",
        "batch_size=128\n",
        "epoch_loss=np.zeros(num_epoch)\n",
        "test_acc=[]\n",
        "train_acc=[]\n",
        "\n",
        "if __name__==\"__main__\":\n",
        "    start_time=time.time()\n",
        "    train_neural_network('adam')\n",
        "    print (\"\\nThe network has been trained!\")"
      ],
      "execution_count": 30,
      "outputs": [
        {
          "output_type": "stream",
          "text": [
            "Epoch 1 completed out of 150 loss: 1362.7428612709045\n",
            "Test Accuracy : 0.18273664\n",
            "4.30288028717041 sec\n",
            "Epoch 2 completed out of 150 loss: 1357.500561952591\n",
            "Test Accuracy : 0.26025662\n",
            "7.3076512813568115 sec\n",
            "Epoch 3 completed out of 150 loss: 1350.3734245300293\n",
            "Test Accuracy : 0.37019822\n",
            "10.202640533447266 sec\n",
            "Epoch 4 completed out of 150 loss: 1344.768884897232\n",
            "Test Accuracy : 0.47883373\n",
            "13.06562066078186 sec\n",
            "Epoch 5 completed out of 150 loss: 1341.647728919983\n",
            "Test Accuracy : 0.4973494\n",
            "15.931823492050171 sec\n",
            "Epoch 6 completed out of 150 loss: 1340.667802810669\n",
            "Test Accuracy : 0.49792564\n",
            "18.790384531021118 sec\n",
            "Epoch 7 completed out of 150 loss: 1340.0499880313873\n",
            "Test Accuracy : 0.5062999\n",
            "21.652152061462402 sec\n",
            "Epoch 8 completed out of 150 loss: 1339.5411159992218\n",
            "Test Accuracy : 0.5091426\n",
            "24.484244108200073 sec\n",
            "Epoch 9 completed out of 150 loss: 1339.198301076889\n",
            "Test Accuracy : 0.5137139\n",
            "27.337333917617798 sec\n",
            "Epoch 10 completed out of 150 loss: 1338.8549354076385\n",
            "Test Accuracy : 0.5153273\n",
            "30.195675373077393 sec\n",
            "\n",
            "Training Accuracy : 0.536058\n",
            "Epoch 11 completed out of 150 loss: 1338.1744561195374\n",
            "Test Accuracy : 0.532268\n",
            "33.38594079017639 sec\n",
            "Epoch 12 completed out of 150 loss: 1336.6819787025452\n",
            "Test Accuracy : 0.5513983\n",
            "36.348535776138306 sec\n",
            "Epoch 13 completed out of 150 loss: 1335.3987443447113\n",
            "Test Accuracy : 0.5606177\n",
            "39.23888874053955 sec\n",
            "Epoch 14 completed out of 150 loss: 1334.872090101242\n",
            "Test Accuracy : 0.5625\n",
            "42.15695261955261 sec\n",
            "Epoch 15 completed out of 150 loss: 1334.6365678310394\n",
            "Test Accuracy : 0.5643823\n",
            "44.95233154296875 sec\n",
            "Epoch 16 completed out of 150 loss: 1334.2721016407013\n",
            "Test Accuracy : 0.5693377\n",
            "47.839436531066895 sec\n",
            "Epoch 17 completed out of 150 loss: 1333.984542131424\n",
            "Test Accuracy : 0.56726336\n",
            "50.72662019729614 sec\n",
            "Epoch 18 completed out of 150 loss: 1333.7649161815643\n",
            "Test Accuracy : 0.5750999\n",
            "53.56851530075073 sec\n",
            "Epoch 19 completed out of 150 loss: 1333.5184683799744\n",
            "Test Accuracy : 0.57671326\n",
            "56.38616442680359 sec\n",
            "Epoch 20 completed out of 150 loss: 1333.3704149723053\n",
            "Test Accuracy : 0.57617545\n",
            "59.19699716567993 sec\n",
            "\n",
            "Training Accuracy : 0.6094435\n",
            "Epoch 21 completed out of 150 loss: 1333.1865067481995\n",
            "Test Accuracy : 0.5798248\n",
            "62.31937074661255 sec\n",
            "Epoch 22 completed out of 150 loss: 1333.077145576477\n",
            "Test Accuracy : 0.5822833\n",
            "65.14848327636719 sec\n",
            "Epoch 23 completed out of 150 loss: 1332.1933517456055\n",
            "Test Accuracy : 0.61324525\n",
            "67.96590232849121 sec\n",
            "Epoch 24 completed out of 150 loss: 1330.691293001175\n",
            "Test Accuracy : 0.61654884\n",
            "70.77155184745789 sec\n",
            "Epoch 25 completed out of 150 loss: 1330.155571937561\n",
            "Test Accuracy : 0.62100494\n",
            "73.60188746452332 sec\n",
            "Epoch 26 completed out of 150 loss: 1329.8907544612885\n",
            "Test Accuracy : 0.6215043\n",
            "76.40668678283691 sec\n",
            "Epoch 27 completed out of 150 loss: 1329.6252830028534\n",
            "Test Accuracy : 0.6237323\n",
            "79.2216055393219 sec\n",
            "Epoch 28 completed out of 150 loss: 1329.137682914734\n",
            "Test Accuracy : 0.6493931\n",
            "82.0301501750946 sec\n",
            "Epoch 29 completed out of 150 loss: 1327.4475898742676\n",
            "Test Accuracy : 0.6564613\n",
            "84.803062915802 sec\n",
            "Epoch 30 completed out of 150 loss: 1327.0814363956451\n",
            "Test Accuracy : 0.6527735\n",
            "87.65735268592834 sec\n",
            "\n",
            "Training Accuracy : 0.6878114\n",
            "Epoch 31 completed out of 150 loss: 1326.8374271392822\n",
            "Test Accuracy : 0.6554241\n",
            "90.7353789806366 sec\n",
            "Epoch 32 completed out of 150 loss: 1326.5829832553864\n",
            "Test Accuracy : 0.66360635\n",
            "93.647940158844 sec\n",
            "Epoch 33 completed out of 150 loss: 1326.4190418720245\n",
            "Test Accuracy : 0.66372156\n",
            "96.44887161254883 sec\n",
            "Epoch 34 completed out of 150 loss: 1326.2492408752441\n",
            "Test Accuracy : 0.6691764\n",
            "99.27125883102417 sec\n",
            "Epoch 35 completed out of 150 loss: 1326.1912097930908\n",
            "Test Accuracy : 0.67148125\n",
            "102.0741446018219 sec\n",
            "Epoch 36 completed out of 150 loss: 1325.7370901107788\n",
            "Test Accuracy : 0.69364625\n",
            "104.89204096794128 sec\n",
            "Epoch 37 completed out of 150 loss: 1323.8712298870087\n",
            "Test Accuracy : 0.70490164\n",
            "107.70291328430176 sec\n",
            "Epoch 38 completed out of 150 loss: 1323.426120519638\n",
            "Test Accuracy : 0.7035956\n",
            "110.48313784599304 sec\n",
            "Epoch 39 completed out of 150 loss: 1323.3381698131561\n",
            "Test Accuracy : 0.6982176\n",
            "113.2893443107605 sec\n",
            "Epoch 40 completed out of 150 loss: 1323.0787904262543\n",
            "Test Accuracy : 0.70759064\n",
            "116.11382865905762 sec\n",
            "\n",
            "Training Accuracy : 0.7475736\n",
            "Epoch 41 completed out of 150 loss: 1322.895081281662\n",
            "Test Accuracy : 0.70701444\n",
            "119.26134967803955 sec\n",
            "Epoch 42 completed out of 150 loss: 1322.7923192977905\n",
            "Test Accuracy : 0.709012\n",
            "122.10388660430908 sec\n",
            "Epoch 43 completed out of 150 loss: 1322.6324336528778\n",
            "Test Accuracy : 0.711701\n",
            "124.91604328155518 sec\n",
            "Epoch 44 completed out of 150 loss: 1322.5450818538666\n",
            "Test Accuracy : 0.71704054\n",
            "127.74863457679749 sec\n",
            "Epoch 45 completed out of 150 loss: 1322.4027273654938\n",
            "Test Accuracy : 0.7133912\n",
            "130.59582495689392 sec\n",
            "Epoch 46 completed out of 150 loss: 1322.300944328308\n",
            "Test Accuracy : 0.717079\n",
            "133.45034980773926 sec\n",
            "Epoch 47 completed out of 150 loss: 1322.1435689926147\n",
            "Test Accuracy : 0.72026736\n",
            "136.3056514263153 sec\n",
            "Epoch 48 completed out of 150 loss: 1321.2815430164337\n",
            "Test Accuracy : 0.74343115\n",
            "139.14965391159058 sec\n",
            "Epoch 49 completed out of 150 loss: 1320.078518152237\n",
            "Test Accuracy : 0.7445836\n",
            "142.00702047348022 sec\n",
            "Epoch 50 completed out of 150 loss: 1319.8333218097687\n",
            "Test Accuracy : 0.74992317\n",
            "144.861407995224 sec\n",
            "\n",
            "Training Accuracy : 0.7924294\n",
            "Epoch 51 completed out of 150 loss: 1319.6985716819763\n",
            "Test Accuracy : 0.7519207\n",
            "147.99281573295593 sec\n",
            "Epoch 52 completed out of 150 loss: 1319.6145117282867\n",
            "Test Accuracy : 0.75656885\n",
            "150.82075381278992 sec\n",
            "Epoch 53 completed out of 150 loss: 1319.4348375797272\n",
            "Test Accuracy : 0.7530347\n",
            "153.62928533554077 sec\n",
            "Epoch 54 completed out of 150 loss: 1319.3087697029114\n",
            "Test Accuracy : 0.75445604\n",
            "156.46102857589722 sec\n",
            "Epoch 55 completed out of 150 loss: 1319.2538788318634\n",
            "Test Accuracy : 0.75387985\n",
            "159.30084919929504 sec\n",
            "Epoch 56 completed out of 150 loss: 1319.2320928573608\n",
            "Test Accuracy : 0.75526273\n",
            "162.19119834899902 sec\n",
            "Epoch 57 completed out of 150 loss: 1319.1060366630554\n",
            "Test Accuracy : 0.75749075\n",
            "165.01541686058044 sec\n",
            "Epoch 58 completed out of 150 loss: 1319.002888917923\n",
            "Test Accuracy : 0.7551475\n",
            "167.84170961380005 sec\n",
            "Epoch 59 completed out of 150 loss: 1318.9382228851318\n",
            "Test Accuracy : 0.75994927\n",
            "170.64791464805603 sec\n",
            "Epoch 60 completed out of 150 loss: 1318.8456213474274\n",
            "Test Accuracy : 0.758528\n",
            "173.4650731086731 sec\n",
            "\n",
            "Training Accuracy : 0.8042644\n",
            "Epoch 61 completed out of 150 loss: 1318.7361195087433\n",
            "Test Accuracy : 0.7565304\n",
            "176.6218385696411 sec\n",
            "Epoch 62 completed out of 150 loss: 1318.5492837429047\n",
            "Test Accuracy : 0.7772357\n",
            "179.56348848342896 sec\n",
            "Epoch 63 completed out of 150 loss: 1317.4295873641968\n",
            "Test Accuracy : 0.782921\n",
            "182.51876020431519 sec\n",
            "Epoch 64 completed out of 150 loss: 1316.94988489151\n",
            "Test Accuracy : 0.7848417\n",
            "185.38692259788513 sec\n",
            "Epoch 65 completed out of 150 loss: 1316.7781164646149\n",
            "Test Accuracy : 0.78545636\n",
            "188.20885968208313 sec\n",
            "Epoch 66 completed out of 150 loss: 1316.645879983902\n",
            "Test Accuracy : 0.78265214\n",
            "191.0854640007019 sec\n",
            "Epoch 67 completed out of 150 loss: 1316.581950187683\n",
            "Test Accuracy : 0.7857637\n",
            "193.9014801979065 sec\n",
            "Epoch 68 completed out of 150 loss: 1316.4679856300354\n",
            "Test Accuracy : 0.78184545\n",
            "196.75941729545593 sec\n",
            "Epoch 69 completed out of 150 loss: 1316.3379683494568\n",
            "Test Accuracy : 0.788299\n",
            "199.64146089553833 sec\n",
            "Epoch 70 completed out of 150 loss: 1316.1865639686584\n",
            "Test Accuracy : 0.7879917\n",
            "202.46527075767517 sec\n",
            "\n",
            "Training Accuracy : 0.83590645\n",
            "Epoch 71 completed out of 150 loss: 1316.3424098491669\n",
            "Test Accuracy : 0.78491855\n",
            "205.6586093902588 sec\n",
            "Epoch 72 completed out of 150 loss: 1316.1570928096771\n",
            "Test Accuracy : 0.7855716\n",
            "208.58403992652893 sec\n",
            "Epoch 73 completed out of 150 loss: 1316.1002261638641\n",
            "Test Accuracy : 0.7863399\n",
            "211.50664854049683 sec\n",
            "Epoch 74 completed out of 150 loss: 1315.926645040512\n",
            "Test Accuracy : 0.7873387\n",
            "214.4035804271698 sec\n",
            "Epoch 75 completed out of 150 loss: 1315.9696562290192\n",
            "Test Accuracy : 0.78603256\n",
            "217.24649453163147 sec\n",
            "Epoch 76 completed out of 150 loss: 1315.8807315826416\n",
            "Test Accuracy : 0.78672403\n",
            "220.1195433139801 sec\n",
            "Epoch 77 completed out of 150 loss: 1315.7893357276917\n",
            "Test Accuracy : 0.78603256\n",
            "222.94628930091858 sec\n",
            "Epoch 78 completed out of 150 loss: 1315.6266841888428\n",
            "Test Accuracy : 0.7825753\n",
            "225.81344747543335 sec\n",
            "Epoch 79 completed out of 150 loss: 1315.6227750778198\n",
            "Test Accuracy : 0.7892594\n",
            "228.70692586898804 sec\n",
            "Epoch 80 completed out of 150 loss: 1315.5528469085693\n",
            "Test Accuracy : 0.7882222\n",
            "231.60146164894104 sec\n",
            "\n",
            "Training Accuracy : 0.8401245\n",
            "Epoch 81 completed out of 150 loss: 1315.5653703212738\n",
            "Test Accuracy : 0.7922557\n",
            "235.00951027870178 sec\n",
            "Epoch 82 completed out of 150 loss: 1315.4817941188812\n",
            "Test Accuracy : 0.79106486\n",
            "237.92813372612 sec\n",
            "Epoch 83 completed out of 150 loss: 1315.3432021141052\n",
            "Test Accuracy : 0.7926014\n",
            "240.88890671730042 sec\n",
            "Epoch 84 completed out of 150 loss: 1315.3764600753784\n",
            "Test Accuracy : 0.7863015\n",
            "243.85329794883728 sec\n",
            "Epoch 85 completed out of 150 loss: 1315.2363684177399\n",
            "Test Accuracy : 0.78814536\n",
            "246.79853510856628 sec\n",
            "Epoch 86 completed out of 150 loss: 1315.1875956058502\n",
            "Test Accuracy : 0.7894514\n",
            "249.72745299339294 sec\n",
            "Epoch 87 completed out of 150 loss: 1315.1702244281769\n",
            "Test Accuracy : 0.7882606\n",
            "252.58534908294678 sec\n",
            "Epoch 88 completed out of 150 loss: 1315.0740373134613\n",
            "Test Accuracy : 0.7919484\n",
            "255.4503927230835 sec\n",
            "Epoch 89 completed out of 150 loss: 1315.0948176383972\n",
            "Test Accuracy : 0.79221725\n",
            "258.3109588623047 sec\n",
            "Epoch 90 completed out of 150 loss: 1315.0789709091187\n",
            "Test Accuracy : 0.79413795\n",
            "261.21461272239685 sec\n",
            "\n",
            "Training Accuracy : 0.84913385\n",
            "Epoch 91 completed out of 150 loss: 1314.918660402298\n",
            "Test Accuracy : 0.7947526\n",
            "264.4144959449768 sec\n",
            "Epoch 92 completed out of 150 loss: 1314.9572088718414\n",
            "Test Accuracy : 0.79052705\n",
            "267.28507137298584 sec\n",
            "Epoch 93 completed out of 150 loss: 1314.793653011322\n",
            "Test Accuracy : 0.79490626\n",
            "270.17090487480164 sec\n",
            "Epoch 94 completed out of 150 loss: 1314.7743167877197\n",
            "Test Accuracy : 0.78760755\n",
            "273.0527288913727 sec\n",
            "Epoch 95 completed out of 150 loss: 1314.7728989124298\n",
            "Test Accuracy : 0.7931392\n",
            "275.92581820487976 sec\n",
            "Epoch 96 completed out of 150 loss: 1314.5854074954987\n",
            "Test Accuracy : 0.79559773\n",
            "278.77675223350525 sec\n",
            "Epoch 97 completed out of 150 loss: 1314.5992934703827\n",
            "Test Accuracy : 0.7906039\n",
            "281.660031080246 sec\n",
            "Epoch 98 completed out of 150 loss: 1314.5475339889526\n",
            "Test Accuracy : 0.7966349\n",
            "284.5588552951813 sec\n",
            "Epoch 99 completed out of 150 loss: 1314.4761717319489\n",
            "Test Accuracy : 0.7949447\n",
            "287.42088651657104 sec\n",
            "Epoch 100 completed out of 150 loss: 1314.463731765747\n",
            "Test Accuracy : 0.7952904\n",
            "290.3301365375519 sec\n",
            "\n",
            "Training Accuracy : 0.8535703\n",
            "Epoch 101 completed out of 150 loss: 1314.356204509735\n",
            "Test Accuracy : 0.7934849\n",
            "293.5745027065277 sec\n",
            "Epoch 102 completed out of 150 loss: 1314.2895276546478\n",
            "Test Accuracy : 0.7930624\n",
            "296.48621821403503 sec\n",
            "Epoch 103 completed out of 150 loss: 1314.103509426117\n",
            "Test Accuracy : 0.8128457\n",
            "299.37270498275757 sec\n",
            "Epoch 104 completed out of 150 loss: 1313.1763503551483\n",
            "Test Accuracy : 0.82379377\n",
            "302.3026933670044 sec\n",
            "Epoch 105 completed out of 150 loss: 1313.0030009746552\n",
            "Test Accuracy : 0.8229871\n",
            "305.3768301010132 sec\n",
            "Epoch 106 completed out of 150 loss: 1312.7868661880493\n",
            "Test Accuracy : 0.81929934\n",
            "308.30157446861267 sec\n",
            "Epoch 107 completed out of 150 loss: 1312.5398581027985\n",
            "Test Accuracy : 0.82052857\n",
            "311.1826934814453 sec\n",
            "Epoch 108 completed out of 150 loss: 1312.5103278160095\n",
            "Test Accuracy : 0.8224109\n",
            "314.04851388931274 sec\n",
            "Epoch 109 completed out of 150 loss: 1312.4413821697235\n",
            "Test Accuracy : 0.822142\n",
            "316.9092092514038 sec\n",
            "Epoch 110 completed out of 150 loss: 1312.2938842773438\n",
            "Test Accuracy : 0.8206054\n",
            "319.76175332069397 sec\n",
            "\n",
            "Training Accuracy : 0.8830965\n",
            "Epoch 111 completed out of 150 loss: 1312.1937892436981\n",
            "Test Accuracy : 0.81964505\n",
            "322.929297208786 sec\n",
            "Epoch 112 completed out of 150 loss: 1312.1268799304962\n",
            "Test Accuracy : 0.8191457\n",
            "325.7952539920807 sec\n",
            "Epoch 113 completed out of 150 loss: 1312.1235342025757\n",
            "Test Accuracy : 0.8232944\n",
            "328.68130445480347 sec\n",
            "Epoch 114 completed out of 150 loss: 1312.050738811493\n",
            "Test Accuracy : 0.8208359\n",
            "331.5545425415039 sec\n",
            "Epoch 115 completed out of 150 loss: 1311.9886338710785\n",
            "Test Accuracy : 0.82110476\n",
            "334.4510314464569 sec\n",
            "Epoch 116 completed out of 150 loss: 1311.915244102478\n",
            "Test Accuracy : 0.8187615\n",
            "337.3818299770355 sec\n",
            "Epoch 117 completed out of 150 loss: 1311.8719232082367\n",
            "Test Accuracy : 0.8168408\n",
            "340.33852076530457 sec\n",
            "Epoch 118 completed out of 150 loss: 1311.862595796585\n",
            "Test Accuracy : 0.81346035\n",
            "343.23100996017456 sec\n",
            "Epoch 119 completed out of 150 loss: 1311.8144524097443\n",
            "Test Accuracy : 0.81999075\n",
            "346.11664485931396 sec\n",
            "Epoch 120 completed out of 150 loss: 1311.6780512332916\n",
            "Test Accuracy : 0.8137292\n",
            "349.0963478088379 sec\n",
            "\n",
            "Training Accuracy : 0.87670803\n",
            "Epoch 121 completed out of 150 loss: 1311.6460506916046\n",
            "Test Accuracy : 0.8143823\n",
            "352.3070616722107 sec\n",
            "Epoch 122 completed out of 150 loss: 1311.640440940857\n",
            "Test Accuracy : 0.8238322\n",
            "355.2588469982147 sec\n",
            "Epoch 123 completed out of 150 loss: 1311.6033072471619\n",
            "Test Accuracy : 0.81941456\n",
            "358.149395942688 sec\n",
            "Epoch 124 completed out of 150 loss: 1311.6597874164581\n",
            "Test Accuracy : 0.81783956\n",
            "361.0399434566498 sec\n",
            "Epoch 125 completed out of 150 loss: 1311.5155408382416\n",
            "Test Accuracy : 0.8130762\n",
            "363.90953516960144 sec\n",
            "Epoch 126 completed out of 150 loss: 1311.409113407135\n",
            "Test Accuracy : 0.8187615\n",
            "366.7820146083832 sec\n",
            "Epoch 127 completed out of 150 loss: 1311.4557383060455\n",
            "Test Accuracy : 0.81515056\n",
            "369.6786437034607 sec\n",
            "Epoch 128 completed out of 150 loss: 1311.318748474121\n",
            "Test Accuracy : 0.8125384\n",
            "372.5540101528168 sec\n",
            "Epoch 129 completed out of 150 loss: 1311.3481705188751\n",
            "Test Accuracy : 0.8122311\n",
            "375.4289016723633 sec\n",
            "Epoch 130 completed out of 150 loss: 1311.3329901695251\n",
            "Test Accuracy : 0.82221884\n",
            "378.30852150917053 sec\n",
            "\n",
            "Training Accuracy : 0.8945493\n",
            "Epoch 131 completed out of 150 loss: 1311.2849180698395\n",
            "Test Accuracy : 0.8181085\n",
            "381.59243726730347 sec\n",
            "Epoch 132 completed out of 150 loss: 1311.1935086250305\n",
            "Test Accuracy : 0.8166487\n",
            "384.5341875553131 sec\n",
            "Epoch 133 completed out of 150 loss: 1311.157965183258\n",
            "Test Accuracy : 0.81641823\n",
            "387.50506258010864 sec\n",
            "Epoch 134 completed out of 150 loss: 1311.14688539505\n",
            "Test Accuracy : 0.8202981\n",
            "390.50131011009216 sec\n",
            "Epoch 135 completed out of 150 loss: 1311.0978178977966\n",
            "Test Accuracy : 0.8201444\n",
            "393.403737783432 sec\n",
            "Epoch 136 completed out of 150 loss: 1311.0491547584534\n",
            "Test Accuracy : 0.81941456\n",
            "396.27867555618286 sec\n",
            "Epoch 137 completed out of 150 loss: 1310.985559463501\n",
            "Test Accuracy : 0.82052857\n",
            "399.1751081943512 sec\n",
            "Epoch 138 completed out of 150 loss: 1310.9609124660492\n",
            "Test Accuracy : 0.8221804\n",
            "402.0807783603668 sec\n",
            "Epoch 139 completed out of 150 loss: 1311.0140542984009\n",
            "Test Accuracy : 0.82267976\n",
            "404.97023272514343 sec\n",
            "Epoch 140 completed out of 150 loss: 1310.9537312984467\n",
            "Test Accuracy : 0.8262523\n",
            "407.86689615249634 sec\n",
            "\n",
            "Training Accuracy : 0.8978801\n",
            "Epoch 141 completed out of 150 loss: 1310.8740499019623\n",
            "Test Accuracy : 0.82448524\n",
            "411.1345567703247 sec\n",
            "Epoch 142 completed out of 150 loss: 1310.8976075649261\n",
            "Test Accuracy : 0.8237554\n",
            "414.0564911365509 sec\n",
            "Epoch 143 completed out of 150 loss: 1310.8876066207886\n",
            "Test Accuracy : 0.8270974\n",
            "416.9872148036957 sec\n",
            "Epoch 144 completed out of 150 loss: 1310.8965101242065\n",
            "Test Accuracy : 0.82022125\n",
            "419.8890163898468 sec\n",
            "Epoch 145 completed out of 150 loss: 1310.7730584144592\n",
            "Test Accuracy : 0.82267976\n",
            "422.78154015541077 sec\n",
            "Epoch 146 completed out of 150 loss: 1310.7769510746002\n",
            "Test Accuracy : 0.8221804\n",
            "425.7069342136383 sec\n",
            "Epoch 147 completed out of 150 loss: 1310.7264516353607\n",
            "Test Accuracy : 0.82437\n",
            "428.65592527389526 sec\n",
            "Epoch 148 completed out of 150 loss: 1310.6993398666382\n",
            "Test Accuracy : 0.82579136\n",
            "431.53208923339844 sec\n",
            "Epoch 149 completed out of 150 loss: 1310.5918462276459\n",
            "Test Accuracy : 0.8249462\n",
            "434.4501349925995 sec\n",
            "Epoch 150 completed out of 150 loss: 1310.60435795784\n",
            "Test Accuracy : 0.82467735\n",
            "437.3432066440582 sec\n",
            "\n",
            "Training Accuracy : 0.9017978\n",
            "Training Over. \n",
            "Now you are a SuperSaiyan\n",
            "\n"
          ],
          "name": "stdout"
        }
      ]
    },
    {
      "metadata": {
        "id": "F3RUGQrHOb2T",
        "colab_type": "text"
      },
      "cell_type": "markdown",
      "source": [
        "####Create Plots\n",
        "👇🏻 cell : creates plots for loss, training and testing accuracies wrt epoch number using Plotly."
      ]
    },
    {
      "metadata": {
        "id": "a0wCHf6UIpeQ",
        "colab_type": "code",
        "colab": {
          "base_uri": "https://localhost:8080/",
          "height": 547
        },
        "outputId": "4d196a52-2f81-47f5-c6ba-edb53e4ceef1"
      },
      "cell_type": "code",
      "source": [
        "x_axis0=np.arange(num_epoch)\n",
        "x_axis1=np.arange(10,num_epoch,10)\n",
        "\n",
        "trace0=go.Scatter(x=x_axis0,y=epoch_loss,mode='lines',name='loss')\n",
        "trace1=go.Scatter(x=x_axis0,y=test_acc,mode='lines',name='test_acc')\n",
        "trace2=go.Scatter(x=x_axis1,y=train_acc,mode='lines+markers',name='train_acc')\n",
        "\n",
        "data=([trace0])\n",
        "py.iplot(data,filename='svhn_adam_loss')"
      ],
      "execution_count": 41,
      "outputs": [
        {
          "output_type": "execute_result",
          "data": {
            "text/html": [
              "<iframe id=\"igraph\" scrolling=\"no\" style=\"border:none;\" seamless=\"seamless\" src=\"https://plot.ly/~ymehta95/16.embed\" height=\"525px\" width=\"100%\"></iframe>"
            ],
            "text/plain": [
              "<plotly.tools.PlotlyDisplay object>"
            ]
          },
          "metadata": {
            "tags": []
          },
          "execution_count": 41
        }
      ]
    },
    {
      "metadata": {
        "id": "wQK8k_LEIpeT",
        "colab_type": "code",
        "colab": {
          "base_uri": "https://localhost:8080/",
          "height": 547
        },
        "outputId": "29fafc86-b6e5-4c81-e73e-82531692080f"
      },
      "cell_type": "code",
      "source": [
        "data=([trace1,trace2])\n",
        "py.iplot(data,filename='svhn_adam_acc')"
      ],
      "execution_count": 42,
      "outputs": [
        {
          "output_type": "execute_result",
          "data": {
            "text/html": [
              "<iframe id=\"igraph\" scrolling=\"no\" style=\"border:none;\" seamless=\"seamless\" src=\"https://plot.ly/~ymehta95/18.embed\" height=\"525px\" width=\"100%\"></iframe>"
            ],
            "text/plain": [
              "<plotly.tools.PlotlyDisplay object>"
            ]
          },
          "metadata": {
            "tags": []
          },
          "execution_count": 42
        }
      ]
    },
    {
      "metadata": {
        "id": "VYiFroIBIpeW",
        "colab_type": "code",
        "colab": {}
      },
      "cell_type": "code",
      "source": [
        "num_epoch=150\n",
        "epoch_loss=np.zeros(num_epoch)\n",
        "test_acc=[]\n",
        "train_acc=[]\n",
        "\n",
        "if __name__==\"__main__\":\n",
        "    start_time=time.time()\n",
        "    train_neural_network(x,'sgd')\n",
        "    print (\"\\nThe network has been trained!\")"
      ],
      "execution_count": 0,
      "outputs": []
    },
    {
      "metadata": {
        "id": "JD-Rtk4zIpeZ",
        "colab_type": "code",
        "colab": {}
      },
      "cell_type": "code",
      "source": [
        "trace0=go.Scatter(x=x_axis1,y=epoch_loss)\n",
        "trace1=go.Scatter(x=x_axis2,y=test_acc)\n",
        "trace2=go.Scatter(x=x_axis3,y=train_acc)\n",
        "data=([trace0])\n",
        "py.iplot(data,filename='svhn_sgd_loss')"
      ],
      "execution_count": 0,
      "outputs": []
    },
    {
      "metadata": {
        "id": "NNg_jZzEIpec",
        "colab_type": "code",
        "colab": {}
      },
      "cell_type": "code",
      "source": [
        "data=([trace1,trace2])\n",
        "py.iplot(data,filename='svhn_sgd_acc')"
      ],
      "execution_count": 0,
      "outputs": []
    }
  ]
}