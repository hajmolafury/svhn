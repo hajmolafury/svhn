{
 "cells": [
  {
   "cell_type": "code",
   "execution_count": 1,
   "metadata": {},
   "outputs": [],
   "source": [
    "import os\n",
    "os.environ['TF_CPP_MIN_LOG_LEVEL']='2'"
   ]
  },
  {
   "cell_type": "code",
   "execution_count": 2,
   "metadata": {},
   "outputs": [],
   "source": [
    "import time\n",
    "import tensorflow as tf\n",
    "import numpy as np\n",
    "import scipy as sp\n",
    "import scipy.io as sio\n",
    "from scipy.misc import *\n",
    "\n",
    "from plotly.offline import download_plotlyjs, init_notebook_mode, plot, iplot\n",
    "import plotly\n",
    "plotly.tools.set_credentials_file(username='ymehta95', api_key='TVHPG5E24omQeUyWougP')\n",
    "import plotly.plotly as py\n",
    "import plotly.graph_objs as go\n",
    "\n",
    "#To install plotpy library:\n",
    "#pip install plotly --upgrade"
   ]
  },
  {
   "cell_type": "code",
   "execution_count": 3,
   "metadata": {},
   "outputs": [],
   "source": [
    "file_path='../data'\n",
    "\n",
    "def __store_data(data, num_of_examples):\n",
    "    d = []\n",
    "\n",
    "    for i in range(num_of_examples):\n",
    "        d.append(data[:, :, :, i])\n",
    "\n",
    "    return np.asarray(d)\n",
    "\n",
    "\n",
    "train = sio.loadmat(file_path + \"/train_32x32.mat\")\n",
    "y_train = train['y']\n",
    "train_examples = train['X'].shape[3]\n",
    "x_train = __store_data(train['X'].astype(\"float32\"), train_examples)\n",
    "x_train=tf.Session().run(tf.reshape(x_train, [len(x_train),3072]))\n",
    "x_train=x_train/255\n",
    "\n",
    "test = sio.loadmat(file_path+\"/test_32x32.mat\")\n",
    "y_test = test['y']\n",
    "test_examples = test['X'].shape[3]\n",
    "x_test = __store_data(test['X'].astype(\"float32\"), test_examples)\n",
    "x_test=tf.Session().run(tf.reshape(x_test, [len(x_test),3072]))\n",
    "x_test=x_test/255"
   ]
  },
  {
   "cell_type": "code",
   "execution_count": 9,
   "metadata": {},
   "outputs": [
    {
     "data": {
      "text/plain": [
       "(73257, 3072)"
      ]
     },
     "execution_count": 9,
     "metadata": {},
     "output_type": "execute_result"
    }
   ],
   "source": [
    "def rgb2gray(rgb):\n",
    "    return np.dot(rgb[...,:3], [0.299, 0.587, 0.114])"
   ]
  },
  {
   "cell_type": "code",
   "execution_count": 10,
   "metadata": {},
   "outputs": [],
   "source": [
    "y_train=tf.Session().run(tf.one_hot(y_train,depth=10))\n",
    "y_test=tf.Session().run(tf.one_hot(y_test,depth=10))\n",
    "\n",
    "y_train=tf.Session().run(tf.reshape(y_train, [len(y_train),10]))\n",
    "y_test=tf.Session().run(tf.reshape(y_test, [len(y_test),10]))"
   ]
  },
  {
   "cell_type": "code",
   "execution_count": 21,
   "metadata": {},
   "outputs": [],
   "source": [
    "x=tf.placeholder('float',[None,3072])\n",
    "y=tf.placeholder('float')"
   ]
  },
  {
   "cell_type": "code",
   "execution_count": 34,
   "metadata": {},
   "outputs": [],
   "source": [
    "nodes_hl1=1000\n",
    "nodes_hl2=1000\n",
    "n_classes=10"
   ]
  },
  {
   "cell_type": "code",
   "execution_count": 46,
   "metadata": {},
   "outputs": [],
   "source": [
    "def neural_network(data):\n",
    "    #initializer= tf.contrib.layers.xavier_initializer()\n",
    "    initializer=tf.keras.initializers.he_normal()\n",
    "    hl1={'weights':tf.Variable(initializer([3072,nodes_hl1])),'bias':tf.Variable(initializer([nodes_hl1]))}\n",
    "    hl2={'weights':tf.Variable(initializer([nodes_hl1,nodes_hl2])),'bias':tf.Variable(initializer([nodes_hl2]))}\n",
    "    output_layer={'weights':tf.Variable(initializer([nodes_hl2,n_classes])),'bias':tf.Variable(initializer([n_classes]))}\n",
    "    #(input_data*weights +bias)\n",
    "    #using activation function as ReLU\n",
    "    l1=tf.add(tf.matmul(data,hl1['weights']),hl1['bias'])\n",
    "    l1=tf.nn.relu(l1)\n",
    "                                                                                        \n",
    "    l2=tf.add(tf.matmul(l1,hl2['weights']),hl2['bias'])\n",
    "    l2=tf.nn.relu(l2)\n",
    "                                                                                           \n",
    "    output=tf.nn.softmax(tf.add(tf.matmul(l2,output_layer['weights']),output_layer['bias']))\n",
    "                                                                                           \n",
    "    return output"
   ]
  },
  {
   "cell_type": "code",
   "execution_count": 49,
   "metadata": {},
   "outputs": [],
   "source": [
    "def train_neural_network(optimizer):\n",
    "    prediction=neural_network(x)\n",
    "    cost=tf.reduce_mean(tf.nn.softmax_cross_entropy_with_logits_v2(logits=prediction,labels=y))\n",
    "    \n",
    "    if optimizer=='adam':\n",
    "        optimize=tf.train.AdamOptimizer(learning_rate=0.0001).minimize(cost)\n",
    "    if optimizer=='sgd':\n",
    "        optimize=tf.train.GradientDescentOptimizer(learning_rate=0.001).minimize(cost)\n",
    "        \n",
    "   \n",
    "    with tf.Session() as sess:\n",
    "        sess.run(tf.global_variables_initializer())\n",
    "        \n",
    "        for epoch in range(num_epoch):\n",
    "            for i in range(0, len(x_train), batch_size):\n",
    "                # Get pair of (X, y) of the current minibatch/chunk\n",
    "                batch_x = x_train[i:i + batch_size]\n",
    "                batch_y = y_train[i:i + batch_size]\n",
    "                _, c=sess.run([optimize, cost],feed_dict={x:batch_x,y:batch_y})\n",
    "                epoch_loss[epoch]+=c\n",
    "                if i%int((int(len(x_train)/batch_size)/f))==0:\n",
    "                    correct=tf.equal(tf.argmax(prediction,1),tf.argmax(y,1))\n",
    "                    accuracy=tf.reduce_mean(tf.cast(correct,'float'))\n",
    "                    test_acc.append(accuracy.eval({x:x_test,y:y_test}))\n",
    "            \n",
    "\n",
    "            print ('Epoch', epoch+1,'completed out of',num_epoch,'loss:',epoch_loss[epoch])\n",
    "            print ('Accuracy :', test_acc[-1])\n",
    "            print (time.time() - start_time, 'sec')"
   ]
  },
  {
   "cell_type": "code",
   "execution_count": 50,
   "metadata": {},
   "outputs": [
    {
     "name": "stdout",
     "output_type": "stream",
     "text": [
      "Epoch 1 completed out of 50 loss: 1164.8658227920532\n",
      "Accuracy : 0.31042564\n",
      "8.951647281646729 sec\n",
      "Epoch 2 completed out of 50 loss: 1113.6885379552841\n",
      "Accuracy : 0.391134\n",
      "14.31919264793396 sec\n",
      "Epoch 3 completed out of 50 loss: 1073.321316242218\n",
      "Accuracy : 0.42501536\n",
      "19.86737036705017 sec\n",
      "Epoch 4 completed out of 50 loss: 1064.6182326078415\n",
      "Accuracy : 0.43192995\n",
      "25.185689210891724 sec\n",
      "Epoch 5 completed out of 50 loss: 1055.4354321956635\n",
      "Accuracy : 0.4442225\n",
      "30.558882474899292 sec\n",
      "Epoch 6 completed out of 50 loss: 1052.2677023410797\n",
      "Accuracy : 0.43192995\n",
      "35.905086040496826 sec\n",
      "Epoch 7 completed out of 50 loss: 1049.5402648448944\n",
      "Accuracy : 0.44410726\n",
      "41.26451802253723 sec\n",
      "Epoch 8 completed out of 50 loss: 1046.700250506401\n",
      "Accuracy : 0.46001077\n",
      "46.6319785118103 sec\n",
      "Epoch 9 completed out of 50 loss: 1045.5894963741302\n",
      "Accuracy : 0.45939612\n",
      "52.03828573226929 sec\n",
      "Epoch 10 completed out of 50 loss: 1044.3083851337433\n",
      "Accuracy : 0.45175168\n",
      "57.43001079559326 sec\n",
      "Epoch 11 completed out of 50 loss: 1041.0700545310974\n",
      "Accuracy : 0.4698064\n",
      "62.80597496032715 sec\n",
      "Epoch 12 completed out of 50 loss: 1030.4292438030243\n",
      "Accuracy : 0.47241858\n",
      "68.28886270523071 sec\n",
      "Epoch 13 completed out of 50 loss: 1023.3467992544174\n",
      "Accuracy : 0.4703442\n",
      "73.75759673118591 sec\n",
      "Epoch 14 completed out of 50 loss: 1019.200177192688\n",
      "Accuracy : 0.5032268\n",
      "79.5289614200592 sec\n",
      "Epoch 15 completed out of 50 loss: 1016.8510375022888\n",
      "Accuracy : 0.4935464\n",
      "85.03819417953491 sec\n",
      "Epoch 16 completed out of 50 loss: 1015.5377931594849\n",
      "Accuracy : 0.5023433\n",
      "90.5756905078888 sec\n",
      "Epoch 17 completed out of 50 loss: 1013.6591424942017\n",
      "Accuracy : 0.49942377\n",
      "96.08312439918518 sec\n",
      "Epoch 18 completed out of 50 loss: 1012.4663827419281\n",
      "Accuracy : 0.5040335\n",
      "101.59684538841248 sec\n",
      "Epoch 19 completed out of 50 loss: 1011.9106845855713\n",
      "Accuracy : 0.4940842\n",
      "107.17442989349365 sec\n",
      "Epoch 20 completed out of 50 loss: 1009.6381285190582\n",
      "Accuracy : 0.502689\n",
      "112.70428681373596 sec\n",
      "Epoch 21 completed out of 50 loss: 1008.9876080751419\n",
      "Accuracy : 0.49346957\n",
      "118.31381297111511 sec\n",
      "Epoch 22 completed out of 50 loss: 1008.1768904924393\n",
      "Accuracy : 0.49239397\n",
      "123.82320928573608 sec\n",
      "Epoch 23 completed out of 50 loss: 1007.1148357391357\n",
      "Accuracy : 0.51256144\n",
      "129.40235924720764 sec\n",
      "Epoch 24 completed out of 50 loss: 1006.1923072338104\n",
      "Accuracy : 0.51432854\n",
      "134.89744210243225 sec\n",
      "Epoch 25 completed out of 50 loss: 1005.5271507501602\n",
      "Accuracy : 0.50526273\n",
      "140.5877914428711 sec\n",
      "Epoch 26 completed out of 50 loss: 1005.4726595878601\n",
      "Accuracy : 0.5145974\n",
      "146.1371729373932 sec\n",
      "Epoch 27 completed out of 50 loss: 1004.4941892623901\n",
      "Accuracy : 0.5054164\n",
      "151.65871167182922 sec\n",
      "Epoch 28 completed out of 50 loss: 1003.1293307542801\n",
      "Accuracy : 0.52385527\n",
      "157.23302936553955 sec\n",
      "Epoch 29 completed out of 50 loss: 1002.1929525136948\n",
      "Accuracy : 0.5115627\n",
      "162.84376668930054 sec\n",
      "Epoch 30 completed out of 50 loss: 1002.1048946380615\n",
      "Accuracy : 0.5212815\n",
      "168.4629282951355 sec\n",
      "Epoch 31 completed out of 50 loss: 1001.4075959920883\n",
      "Accuracy : 0.52896434\n",
      "174.079243183136 sec\n",
      "Epoch 32 completed out of 50 loss: 1000.2543227672577\n",
      "Accuracy : 0.5229333\n",
      "179.7428846359253 sec\n",
      "Epoch 33 completed out of 50 loss: 1000.8075753450394\n",
      "Accuracy : 0.5267363\n",
      "185.3445007801056 sec\n",
      "Epoch 34 completed out of 50 loss: 999.619332909584\n",
      "Accuracy : 0.5206669\n",
      "190.97197127342224 sec\n",
      "Epoch 35 completed out of 50 loss: 998.8157777786255\n",
      "Accuracy : 0.5180163\n",
      "196.61550664901733 sec\n",
      "Epoch 36 completed out of 50 loss: 997.9698077440262\n",
      "Accuracy : 0.5237016\n",
      "202.52349853515625 sec\n",
      "Epoch 37 completed out of 50 loss: 995.8780748844147\n",
      "Accuracy : 0.53883684\n",
      "208.28360271453857 sec\n",
      "Epoch 38 completed out of 50 loss: 980.7083774805069\n",
      "Accuracy : 0.56299937\n",
      "213.9742193222046 sec\n",
      "Epoch 39 completed out of 50 loss: 976.4326566457748\n",
      "Accuracy : 0.5665719\n",
      "219.69465589523315 sec\n",
      "Epoch 40 completed out of 50 loss: 974.7962087392807\n",
      "Accuracy : 0.5749846\n",
      "225.40202021598816 sec\n",
      "Epoch 41 completed out of 50 loss: 973.1482526063919\n",
      "Accuracy : 0.56826216\n",
      "231.11302638053894 sec\n",
      "Epoch 42 completed out of 50 loss: 972.4955056905746\n",
      "Accuracy : 0.5766749\n",
      "236.86541223526 sec\n",
      "Epoch 43 completed out of 50 loss: 970.7798100709915\n",
      "Accuracy : 0.57179624\n",
      "242.59538650512695 sec\n",
      "Epoch 44 completed out of 50 loss: 969.7314386367798\n",
      "Accuracy : 0.5728334\n",
      "248.34479331970215 sec\n",
      "Epoch 45 completed out of 50 loss: 969.1830747127533\n",
      "Accuracy : 0.5791334\n",
      "254.04683637619019 sec\n",
      "Epoch 46 completed out of 50 loss: 959.2949779033661\n",
      "Accuracy : 0.5975338\n",
      "259.8070259094238 sec\n",
      "Epoch 47 completed out of 50 loss: 954.4305292367935\n",
      "Accuracy : 0.59446067\n",
      "265.7547535896301 sec\n",
      "Epoch 48 completed out of 50 loss: 953.4888334274292\n",
      "Accuracy : 0.5999539\n",
      "271.50551652908325 sec\n",
      "Epoch 49 completed out of 50 loss: 951.7702519893646\n",
      "Accuracy : 0.6036417\n",
      "277.246454000473 sec\n",
      "Epoch 50 completed out of 50 loss: 950.7192410230637\n",
      "Accuracy : 0.5962277\n",
      "282.9882860183716 sec\n",
      "Training Over. \n",
      "Now you are a SuperSaiyan\n",
      "\n"
     ]
    }
   ],
   "source": [
    "num_epoch=50\n",
    "f=2 #frequency : number of times in an epoch we want to measure the accuracy\n",
    "batch_size=128\n",
    "epoch_loss=np.zeros(num_epoch)\n",
    "test_acc=[]\n",
    "\n",
    "if __name__==\"__main__\":\n",
    "    start_time=time.time()\n",
    "    train_neural_network('sgd')\n",
    "    print (\"Training Over. \\nNow you are a SuperSaiyan\\n\")"
   ]
  },
  {
   "cell_type": "code",
   "execution_count": null,
   "metadata": {},
   "outputs": [],
   "source": [
    "x_axis1=np.arange(num_epoch)\n",
    "x_axis2= np.arange(0,num_epoch,1/f)"
   ]
  },
  {
   "cell_type": "code",
   "execution_count": null,
   "metadata": {},
   "outputs": [],
   "source": [
    "trace0=go.Scatter(x=x_axis1,y=epoch_loss)\n",
    "trace1=go.Scatter(x=x_axis2,y=test_acc)\n",
    "data=([trace0])\n",
    "py.iplot(data,filename='svhn_adam_loss')"
   ]
  },
  {
   "cell_type": "code",
   "execution_count": null,
   "metadata": {},
   "outputs": [],
   "source": [
    "data=([trace1])\n",
    "py.iplot(data,filename='svhn_adam_acc')"
   ]
  },
  {
   "cell_type": "code",
   "execution_count": 66,
   "metadata": {},
   "outputs": [
    {
     "data": {
      "text/plain": [
       "<matplotlib.image.AxesImage at 0xb32ae89b0>"
      ]
     },
     "execution_count": 66,
     "metadata": {},
     "output_type": "execute_result"
    },
    {
     "data": {
      "image/png": "[encoded data removed]",
      "text/plain": [
       "<Figure size 720x1440 with 1 Axes>"
      ]
     },
     "metadata": {},
     "output_type": "display_data"
    }
   ],
   "source": [
    "%matplotlib inline\n",
    "import numpy as np\n",
    "from scipy import misc\n",
    "import matplotlib.pyplot as plt\n",
    "\n",
    "img=x_test[3]\n",
    "img=img/255\n",
    "plt.figure(figsize=(10,20))\n",
    "plt.imshow(img)"
   ]
  },
  {
   "cell_type": "code",
   "execution_count": 67,
   "metadata": {},
   "outputs": [
    {
     "data": {
      "text/plain": [
       "array([10], dtype=uint8)"
      ]
     },
     "execution_count": 67,
     "metadata": {},
     "output_type": "execute_result"
    }
   ],
   "source": []
  },
  {
   "cell_type": "code",
   "execution_count": 189,
   "metadata": {},
   "outputs": [
    {
     "name": "stdout",
     "output_type": "stream",
     "text": [
      "Epoch 1 completed out of 15 loss: 216050.52932584286\n",
      "18.33847689628601 sec\n",
      "Epoch 2 completed out of 15 loss: 54044.441793084145\n",
      "27.71073293685913 sec\n",
      "Epoch 3 completed out of 15 loss: 29889.7853683273\n",
      "38.00689101219177 sec\n",
      "Epoch 4 completed out of 15 loss: 17047.545924307546\n",
      "48.064910888671875 sec\n",
      "Epoch 5 completed out of 15 loss: 10386.48233327642\n",
      "58.15698003768921 sec\n",
      "Epoch 6 completed out of 15 loss: 7190.146000626171\n",
      "67.6778609752655 sec\n",
      "Epoch 7 completed out of 15 loss: 4956.68605023308\n",
      "79.25722098350525 sec\n",
      "Epoch 8 completed out of 15 loss: 3427.2340769574016\n",
      "91.49116706848145 sec\n",
      "Epoch 9 completed out of 15 loss: 3507.5167796234164\n",
      "102.40631008148193 sec\n",
      "Epoch 10 completed out of 15 loss: 3447.9334479903614\n",
      "113.9291479587555 sec\n",
      "Epoch 11 completed out of 15 loss: 2630.8996524894173\n",
      "125.75755190849304 sec\n",
      "Epoch 12 completed out of 15 loss: 2793.954569757284\n",
      "138.2298882007599 sec\n",
      "Epoch 13 completed out of 15 loss: 2358.9378678427324\n",
      "149.7964870929718 sec\n",
      "Epoch 14 completed out of 15 loss: 1542.5547953307405\n",
      "159.66984295845032 sec\n",
      "Epoch 15 completed out of 15 loss: 2423.5182222582407\n",
      "169.8575520515442 sec\n",
      "Training Over. \n",
      "Now you are a SuperSaiyan\n",
      "\n"
     ]
    }
   ],
   "source": [
    "num_epoch=15\n",
    "f=2\n",
    "epoch_loss=np.zeros(num_epoch)\n",
    "test_acc=[]\n",
    "\n",
    "if __name__==\"__main__\":\n",
    "    start_time=time.time()\n",
    "    train_neural_network(x,'adam')\n",
    "    print (\"Training Over. \\nNow you are a SuperSaiyan\\n\")"
   ]
  },
  {
   "cell_type": "code",
   "execution_count": 41,
   "metadata": {},
   "outputs": [],
   "source": [
    "from plotly.offline import download_plotlyjs, init_notebook_mode, plot, iplot\n",
    "import plotly\n",
    "plotly.tools.set_credentials_file(username='ymehta95', api_key='TVHPG5E24omQeUyWougP')"
   ]
  },
  {
   "cell_type": "code",
   "execution_count": 42,
   "metadata": {},
   "outputs": [],
   "source": [
    "x_axis1=np.arange(num_epoch)\n",
    "x_axis2= np.arange(0,num_epoch,1/f)"
   ]
  },
  {
   "cell_type": "code",
   "execution_count": 43,
   "metadata": {},
   "outputs": [
    {
     "ename": "NameError",
     "evalue": "name 'go' is not defined",
     "output_type": "error",
     "traceback": [
      "\u001b[0;31m---------------------------------------------------------------------------\u001b[0m",
      "\u001b[0;31mNameError\u001b[0m                                 Traceback (most recent call last)",
      "\u001b[0;32m<ipython-input-43-f7ca05bf0414>\u001b[0m in \u001b[0;36m<module>\u001b[0;34m()\u001b[0m\n\u001b[0;32m----> 1\u001b[0;31m \u001b[0mtrace0\u001b[0m\u001b[0;34m=\u001b[0m\u001b[0mgo\u001b[0m\u001b[0;34m.\u001b[0m\u001b[0mScatter\u001b[0m\u001b[0;34m(\u001b[0m\u001b[0mx\u001b[0m\u001b[0;34m=\u001b[0m\u001b[0mx_axis1\u001b[0m\u001b[0;34m,\u001b[0m\u001b[0my\u001b[0m\u001b[0;34m=\u001b[0m\u001b[0mepoch_loss\u001b[0m\u001b[0;34m)\u001b[0m\u001b[0;34m\u001b[0m\u001b[0m\n\u001b[0m\u001b[1;32m      2\u001b[0m \u001b[0mtrace1\u001b[0m\u001b[0;34m=\u001b[0m\u001b[0mgo\u001b[0m\u001b[0;34m.\u001b[0m\u001b[0mScatter\u001b[0m\u001b[0;34m(\u001b[0m\u001b[0mx\u001b[0m\u001b[0;34m=\u001b[0m\u001b[0mx_axis2\u001b[0m\u001b[0;34m,\u001b[0m\u001b[0my\u001b[0m\u001b[0;34m=\u001b[0m\u001b[0mtest_acc\u001b[0m\u001b[0;34m)\u001b[0m\u001b[0;34m\u001b[0m\u001b[0m\n\u001b[1;32m      3\u001b[0m \u001b[0mdata\u001b[0m\u001b[0;34m=\u001b[0m\u001b[0;34m(\u001b[0m\u001b[0;34m[\u001b[0m\u001b[0mtrace0\u001b[0m\u001b[0;34m]\u001b[0m\u001b[0;34m)\u001b[0m\u001b[0;34m\u001b[0m\u001b[0m\n\u001b[1;32m      4\u001b[0m \u001b[0mpy\u001b[0m\u001b[0;34m.\u001b[0m\u001b[0miplot\u001b[0m\u001b[0;34m(\u001b[0m\u001b[0mdata\u001b[0m\u001b[0;34m,\u001b[0m\u001b[0mfilename\u001b[0m\u001b[0;34m=\u001b[0m\u001b[0;34m'mnist_adam_loss'\u001b[0m\u001b[0;34m)\u001b[0m\u001b[0;34m\u001b[0m\u001b[0m\n",
      "\u001b[0;31mNameError\u001b[0m: name 'go' is not defined"
     ]
    }
   ],
   "source": [
    "trace0=go.Scatter(x=x_axis1,y=epoch_loss)\n",
    "trace1=go.Scatter(x=x_axis2,y=test_acc)\n",
    "data=([trace0])\n",
    "py.iplot(data,filename='svhn_adam_loss')"
   ]
  },
  {
   "cell_type": "code",
   "execution_count": 192,
   "metadata": {},
   "outputs": [
    {
     "data": {
      "text/html": [
       "<iframe id=\"igraph\" scrolling=\"no\" style=\"border:none;\" seamless=\"seamless\" src=\"https://plot.ly/~ymehta95/8.embed\" height=\"525px\" width=\"100%\"></iframe>"
      ],
      "text/plain": [
       "<plotly.tools.PlotlyDisplay object>"
      ]
     },
     "execution_count": 192,
     "metadata": {},
     "output_type": "execute_result"
    }
   ],
   "source": [
    "data=([trace1])\n",
    "py.iplot(data,filename='svhn_adam_acc')"
   ]
  },
  {
   "cell_type": "code",
   "execution_count": 226,
   "metadata": {},
   "outputs": [
    {
     "name": "stdout",
     "output_type": "stream",
     "text": [
      "Epoch 1 completed out of 15 loss: 197529.08947753906\n",
      "14.626976728439331 sec\n",
      "Epoch 2 completed out of 15 loss: 70374.04839038849\n",
      "23.887115716934204 sec\n",
      "Epoch 3 completed out of 15 loss: 48902.09960216284\n",
      "32.84867191314697 sec\n",
      "Epoch 4 completed out of 15 loss: 36237.56115722656\n",
      "42.171910762786865 sec\n",
      "Epoch 5 completed out of 15 loss: 28252.46984565258\n",
      "51.13342785835266 sec\n",
      "Epoch 6 completed out of 15 loss: 22268.41633850336\n",
      "59.907628774642944 sec\n",
      "Epoch 7 completed out of 15 loss: 18130.943677514522\n",
      "69.3622977733612 sec\n",
      "Epoch 8 completed out of 15 loss: 14363.760095721027\n",
      "81.4216639995575 sec\n",
      "Epoch 9 completed out of 15 loss: 12594.411860768196\n",
      "92.80380082130432 sec\n",
      "Epoch 10 completed out of 15 loss: 9646.091426735571\n",
      "104.54353785514832 sec\n",
      "Epoch 11 completed out of 15 loss: 8555.11327900162\n",
      "116.27288484573364 sec\n",
      "Epoch 12 completed out of 15 loss: 6715.565016703496\n",
      "125.65238976478577 sec\n",
      "Epoch 13 completed out of 15 loss: 5586.246938849034\n",
      "134.91314673423767 sec\n",
      "Epoch 14 completed out of 15 loss: 4765.244921774262\n",
      "145.21437883377075 sec\n",
      "Epoch 15 completed out of 15 loss: 3877.9993453265943\n",
      "154.24330282211304 sec\n",
      "Training Over. \n",
      "Now you are a SuperSaiyan\n",
      "\n"
     ]
    }
   ],
   "source": [
    "#training with sgd\n",
    "num_epoch=15\n",
    "f=2\n",
    "epoch_loss=np.zeros(num_epoch)\n",
    "test_acc=[]\n",
    "\n",
    "if __name__==\"__main__\":\n",
    "    start_time=time.time()\n",
    "    train_neural_network(x,'sgd')\n",
    "    print (\"Training Over. \\nNow you are a SuperSaiyan\\n\")"
   ]
  },
  {
   "cell_type": "code",
   "execution_count": 227,
   "metadata": {},
   "outputs": [
    {
     "data": {
      "text/html": [
       "<iframe id=\"igraph\" scrolling=\"no\" style=\"border:none;\" seamless=\"seamless\" src=\"https://plot.ly/~ymehta95/12.embed\" height=\"525px\" width=\"100%\"></iframe>"
      ],
      "text/plain": [
       "<plotly.tools.PlotlyDisplay object>"
      ]
     },
     "execution_count": 227,
     "metadata": {},
     "output_type": "execute_result"
    }
   ],
   "source": [
    "trace0=go.Scatter(x=x_axis1,y=epoch_loss)\n",
    "trace1=go.Scatter(x=x_axis2,y=test_acc)\n",
    "data=([trace0])\n",
    "py.iplot(data,filename='mnist_sgd_loss')"
   ]
  },
  {
   "cell_type": "code",
   "execution_count": 228,
   "metadata": {},
   "outputs": [
    {
     "data": {
      "text/html": [
       "<iframe id=\"igraph\" scrolling=\"no\" style=\"border:none;\" seamless=\"seamless\" src=\"https://plot.ly/~ymehta95/14.embed\" height=\"525px\" width=\"100%\"></iframe>"
      ],
      "text/plain": [
       "<plotly.tools.PlotlyDisplay object>"
      ]
     },
     "execution_count": 228,
     "metadata": {},
     "output_type": "execute_result"
    }
   ],
   "source": [
    "data=([trace1])\n",
    "py.iplot(data,filename='mnist_sgd_acc')"
   ]
  }
 ],
 "metadata": {
  "kernelspec": {
   "display_name": "Python 3",
   "language": "python",
   "name": "python3"
  },
  "language_info": {
   "codemirror_mode": {
    "name": "ipython",
    "version": 3
   },
   "file_extension": ".py",
   "mimetype": "text/x-python",
   "name": "python",
   "nbconvert_exporter": "python",
   "pygments_lexer": "ipython3",
   "version": "3.6.3"
  }
 },
 "nbformat": 4,
 "nbformat_minor": 2
}
